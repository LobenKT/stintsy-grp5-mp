{
 "cells": [
  {
   "cell_type": "markdown",
   "id": "f7f5daa8",
   "metadata": {},
   "source": [
    "# STINTSY GROUP 8 MACHINE PROJECT\n",
    "## PIANO, TAHIMIC, TAMAYO, TIPAN"
   ]
  },
  {
   "cell_type": "markdown",
   "id": "d45d8f04-dde9-4c09-ad08-3882200fd2c6",
   "metadata": {},
   "source": [
    "## I. INTRODUCTION"
   ]
  },
  {
   "cell_type": "markdown",
   "id": "03a95d3d-adf6-400b-a271-20eb4a1ec728",
   "metadata": {},
   "source": [
    "The dataset selected for this project is the \"House Prices\" dataset, encompassing house sale data in King County from May 2014 to May 2015. This project aims to tackle a significant problem in the real estate domain: predicting house prices. By employing regression analysis, we seek to establish a predictive model that estimates house prices based on various features like size, condition, location, etc. This endeavor is crucial as it aids in real estate valuation, informs investment decisions, and can be a valuable tool for urban planning and housing market analysis. Specifically, the project will explore whether a more complex regression model (such as multiple or polynomial regression) provides a more accurate prediction compared to a simple linear approach, given the multifaceted nature of real estate pricing."
   ]
  },
  {
   "cell_type": "markdown",
   "id": "47b60a0b-9d70-43d8-9cd8-cc99998ff1a9",
   "metadata": {
    "tags": []
   },
   "source": [
    "## II. Description of the Dataset"
   ]
  },
  {
   "cell_type": "markdown",
   "id": "970c5928-4e81-40c5-84d0-915bffc39179",
   "metadata": {},
   "source": [
    "This dataset offers a comprehensive snapshot of the real estate market in King County, covering a one-year period from May 2014 to May 2015. It includes data on 21,613 properties, each characterized by 20 features. These features range from basic descriptors like the number of bedrooms and bathrooms (‘bedrooms’, ‘bathrooms’) to more nuanced ones like the quality of view (‘view’) and construction grade (‘grade’). Each row in the dataset represents a unique property, while columns encapsulate these diverse characteristics.\n",
    "\n",
    "In terms of data collection, while specific details are not provided, it is typical for such datasets to be compiled from property sales records, real estate listings, and county tax assessments. This method implies potential biases - the dataset may not represent unlisted properties or those not involved in transactions during this period. Furthermore, the geographic and temporal scope of the data may affect the generalizability of our findings, as housing markets can vary significantly across regions and over time.\n",
    "\n",
    "Each feature in the dataset potentially influences the property's price. For instance, ‘sqft_living’ and ‘sqft_lot’ directly relate to the size of the property, a significant price determinant. The presence of a waterfront (‘waterfront’) or a high construction grade (‘grade’) likely elevates property values due to their desirability and quality. Understanding these relationships will be crucial in building our predictive model."
   ]
  },
  {
   "cell_type": "markdown",
   "id": "1624f913-1c04-4ee2-bc9c-d69e7ac47f8f",
   "metadata": {},
   "source": [
    "### Tabularized List of Variables"
   ]
  },
  {
   "cell_type": "markdown",
   "id": "9298a468-5938-4f38-b918-59b82943d62a",
   "metadata": {},
   "source": [
    "| [house_prices.csv] **Variable Name** | **Description**|\n",
    "|--------------------------------------|----------------|\n",
    "|**id** | A notation for the house|\n",
    "|**date** | Date the house is sold|\n",
    "|**price** | The Sale price of the house|\n",
    "|**bedrooms** | The Number of bedrooms |\n",
    "|**bathrooms** | The Number of bathrooms |\n",
    "|**sqft_livin** | Size of the living area in square feet |\n",
    "|**sqft_lo**t | Size of the lot in square feet |\n",
    "|**floors** | Total floors in the house |\n",
    "|**waterfront** | '1' if the property has waterfront, '0' if none |\n",
    "|**view** | An index of 0 to 4 of good the view of the property was |\n",
    "|**condition** | Condition of the house, ranked from 1 to 5 |\n",
    "|**grade** | Classification by construction quality which refers to the types of materials used and the quality of workmanship. Buildings of better quality (higher grade) cost more to build per unit of measure and command higher value. |\n",
    "|**sqft_above** | Square feet above ground |\n",
    "|**sqft_basement** | Square feet below ground |\n",
    "|**yr_built** | Year the house was built |\n",
    "|**yr_renovated** | Year the house was renovated, 0 if never renovated |\n",
    "|**zipcode** | 5 Digit zip code |\n",
    "|**lat** | Latitude Coordinate |\n",
    "|**long** | Longitude Cooridinate |\n",
    "|**sqft_living15** | Average size of interior housing living space for the closest 15 houses, in square feet |\n",
    "|**sqft_lot15** | Average size of land lots for the closest 15 houses, in square feet |"
   ]
  },
  {
   "cell_type": "markdown",
   "id": "3b57c59c-bf7e-4d50-9aae-2c1dcbaf72c3",
   "metadata": {},
   "source": [
    "## III. Libraries Required"
   ]
  },
  {
   "cell_type": "markdown",
   "id": "4a70c180-df8b-4db8-8bab-8c6a7b65c21e",
   "metadata": {},
   "source": [
    "For this project, the following Python libraries have been utilized:\n",
    "\n",
    "- `pandas`: For efficient data handling and manipulation.\n",
    "- `numpy`: For numerical computations and handling array-type data structures.\n",
    "- `matplotlib` and `seaborn`: For data visualization, crucial in understanding data distributions and patterns.\n",
    "- `scikit-learn`: For implementing and evaluating various regression models. This library provides a comprehensive suite of tools for machine learning tasks."
   ]
  },
  {
   "cell_type": "markdown",
   "id": "2a0ae262-f9fb-43e4-9d70-ec4bdfab29f8",
   "metadata": {
    "tags": []
   },
   "source": [
    "## IV. DATA PREPROCESSING AND CLEANING"
   ]
  },
  {
   "cell_type": "markdown",
   "id": "9a3dcdc8-578d-4198-974c-e8fd872cb14c",
   "metadata": {},
   "source": [
    "Perform the necessary steps before using the data. In this section of the notebook, please take note of the following: • If needed, perform preprocessing techniques to transform the data to the appropriate representation. This may include binning, log transformations, conversion to one-hot encoding, normalization, standardization, interpolation, truncation, and feature engineering, among others. There should be a correct and proper justification of the use of each preprocessing technique used in the project.\n",
    "\n",
    "Make sure that the data is clean, especially features that are used in the project. This may include checking for misrepresentations, checking the data type, dealing with missing data, dealing with duplicate data, and dealing with outliers, among others. There should be a correct and proper justification of the application (or non-application) of each data cleaning method used in the project. Clean only the variables utilized in the study"
   ]
  },
  {
   "cell_type": "code",
   "execution_count": 1,
   "id": "91fc3182-16a8-4381-8520-9ddc20670b0f",
   "metadata": {},
   "outputs": [
    {
     "data": {
      "text/html": [
       "<div>\n",
       "<style scoped>\n",
       "    .dataframe tbody tr th:only-of-type {\n",
       "        vertical-align: middle;\n",
       "    }\n",
       "\n",
       "    .dataframe tbody tr th {\n",
       "        vertical-align: top;\n",
       "    }\n",
       "\n",
       "    .dataframe thead th {\n",
       "        text-align: right;\n",
       "    }\n",
       "</style>\n",
       "<table border=\"1\" class=\"dataframe\">\n",
       "  <thead>\n",
       "    <tr style=\"text-align: right;\">\n",
       "      <th></th>\n",
       "      <th>id</th>\n",
       "      <th>date</th>\n",
       "      <th>price</th>\n",
       "      <th>bedrooms</th>\n",
       "      <th>bathrooms</th>\n",
       "      <th>sqft_living</th>\n",
       "      <th>sqft_lot</th>\n",
       "      <th>floors</th>\n",
       "      <th>waterfront</th>\n",
       "      <th>view</th>\n",
       "      <th>...</th>\n",
       "      <th>grade</th>\n",
       "      <th>sqft_above</th>\n",
       "      <th>sqft_basement</th>\n",
       "      <th>yr_built</th>\n",
       "      <th>yr_renovated</th>\n",
       "      <th>zipcode</th>\n",
       "      <th>lat</th>\n",
       "      <th>long</th>\n",
       "      <th>sqft_living15</th>\n",
       "      <th>sqft_lot15</th>\n",
       "    </tr>\n",
       "  </thead>\n",
       "  <tbody>\n",
       "    <tr>\n",
       "      <th>0</th>\n",
       "      <td>7129300520</td>\n",
       "      <td>20141013T000000</td>\n",
       "      <td>221900.0</td>\n",
       "      <td>3</td>\n",
       "      <td>1.00</td>\n",
       "      <td>1180</td>\n",
       "      <td>5650</td>\n",
       "      <td>1.0</td>\n",
       "      <td>0</td>\n",
       "      <td>0</td>\n",
       "      <td>...</td>\n",
       "      <td>7</td>\n",
       "      <td>1180</td>\n",
       "      <td>0</td>\n",
       "      <td>1955</td>\n",
       "      <td>0</td>\n",
       "      <td>98178</td>\n",
       "      <td>47.5112</td>\n",
       "      <td>-122.257</td>\n",
       "      <td>1340</td>\n",
       "      <td>5650</td>\n",
       "    </tr>\n",
       "    <tr>\n",
       "      <th>1</th>\n",
       "      <td>6414100192</td>\n",
       "      <td>20141209T000000</td>\n",
       "      <td>538000.0</td>\n",
       "      <td>3</td>\n",
       "      <td>2.25</td>\n",
       "      <td>2570</td>\n",
       "      <td>7242</td>\n",
       "      <td>2.0</td>\n",
       "      <td>0</td>\n",
       "      <td>0</td>\n",
       "      <td>...</td>\n",
       "      <td>7</td>\n",
       "      <td>2170</td>\n",
       "      <td>400</td>\n",
       "      <td>1951</td>\n",
       "      <td>1991</td>\n",
       "      <td>98125</td>\n",
       "      <td>47.7210</td>\n",
       "      <td>-122.319</td>\n",
       "      <td>1690</td>\n",
       "      <td>7639</td>\n",
       "    </tr>\n",
       "    <tr>\n",
       "      <th>2</th>\n",
       "      <td>5631500400</td>\n",
       "      <td>20150225T000000</td>\n",
       "      <td>180000.0</td>\n",
       "      <td>2</td>\n",
       "      <td>1.00</td>\n",
       "      <td>770</td>\n",
       "      <td>10000</td>\n",
       "      <td>1.0</td>\n",
       "      <td>0</td>\n",
       "      <td>0</td>\n",
       "      <td>...</td>\n",
       "      <td>6</td>\n",
       "      <td>770</td>\n",
       "      <td>0</td>\n",
       "      <td>1933</td>\n",
       "      <td>0</td>\n",
       "      <td>98028</td>\n",
       "      <td>47.7379</td>\n",
       "      <td>-122.233</td>\n",
       "      <td>2720</td>\n",
       "      <td>8062</td>\n",
       "    </tr>\n",
       "    <tr>\n",
       "      <th>3</th>\n",
       "      <td>2487200875</td>\n",
       "      <td>20141209T000000</td>\n",
       "      <td>604000.0</td>\n",
       "      <td>4</td>\n",
       "      <td>3.00</td>\n",
       "      <td>1960</td>\n",
       "      <td>5000</td>\n",
       "      <td>1.0</td>\n",
       "      <td>0</td>\n",
       "      <td>0</td>\n",
       "      <td>...</td>\n",
       "      <td>7</td>\n",
       "      <td>1050</td>\n",
       "      <td>910</td>\n",
       "      <td>1965</td>\n",
       "      <td>0</td>\n",
       "      <td>98136</td>\n",
       "      <td>47.5208</td>\n",
       "      <td>-122.393</td>\n",
       "      <td>1360</td>\n",
       "      <td>5000</td>\n",
       "    </tr>\n",
       "    <tr>\n",
       "      <th>4</th>\n",
       "      <td>1954400510</td>\n",
       "      <td>20150218T000000</td>\n",
       "      <td>510000.0</td>\n",
       "      <td>3</td>\n",
       "      <td>2.00</td>\n",
       "      <td>1680</td>\n",
       "      <td>8080</td>\n",
       "      <td>1.0</td>\n",
       "      <td>0</td>\n",
       "      <td>0</td>\n",
       "      <td>...</td>\n",
       "      <td>8</td>\n",
       "      <td>1680</td>\n",
       "      <td>0</td>\n",
       "      <td>1987</td>\n",
       "      <td>0</td>\n",
       "      <td>98074</td>\n",
       "      <td>47.6168</td>\n",
       "      <td>-122.045</td>\n",
       "      <td>1800</td>\n",
       "      <td>7503</td>\n",
       "    </tr>\n",
       "  </tbody>\n",
       "</table>\n",
       "<p>5 rows × 21 columns</p>\n",
       "</div>"
      ],
      "text/plain": [
       "           id             date     price  bedrooms  bathrooms  sqft_living   \n",
       "0  7129300520  20141013T000000  221900.0         3       1.00         1180  \\\n",
       "1  6414100192  20141209T000000  538000.0         3       2.25         2570   \n",
       "2  5631500400  20150225T000000  180000.0         2       1.00          770   \n",
       "3  2487200875  20141209T000000  604000.0         4       3.00         1960   \n",
       "4  1954400510  20150218T000000  510000.0         3       2.00         1680   \n",
       "\n",
       "   sqft_lot  floors  waterfront  view  ...  grade  sqft_above  sqft_basement   \n",
       "0      5650     1.0           0     0  ...      7        1180              0  \\\n",
       "1      7242     2.0           0     0  ...      7        2170            400   \n",
       "2     10000     1.0           0     0  ...      6         770              0   \n",
       "3      5000     1.0           0     0  ...      7        1050            910   \n",
       "4      8080     1.0           0     0  ...      8        1680              0   \n",
       "\n",
       "   yr_built  yr_renovated  zipcode      lat     long  sqft_living15   \n",
       "0      1955             0    98178  47.5112 -122.257           1340  \\\n",
       "1      1951          1991    98125  47.7210 -122.319           1690   \n",
       "2      1933             0    98028  47.7379 -122.233           2720   \n",
       "3      1965             0    98136  47.5208 -122.393           1360   \n",
       "4      1987             0    98074  47.6168 -122.045           1800   \n",
       "\n",
       "   sqft_lot15  \n",
       "0        5650  \n",
       "1        7639  \n",
       "2        8062  \n",
       "3        5000  \n",
       "4        7503  \n",
       "\n",
       "[5 rows x 21 columns]"
      ]
     },
     "execution_count": 1,
     "metadata": {},
     "output_type": "execute_result"
    }
   ],
   "source": [
    "import pandas as pd\n",
    "house = pd.read_csv('house_prices.csv')\n",
    "house.head()"
   ]
  },
  {
   "cell_type": "markdown",
   "id": "717f6ac5-8857-477f-979c-97bdf5c2a8b4",
   "metadata": {},
   "source": [
    "### Checking for Missing Values\n",
    "Missing values in a dataset can greatly influence the outcome of analyses and predictive modeling. They can lead to biased estimates, reduced statistical power, and erroneous conclusions. It's crucial to identify and appropriately handle these missing values to ensure the integrity and reliability of our analysis."
   ]
  },
  {
   "cell_type": "code",
   "execution_count": 4,
   "id": "229392f6-a59f-4c6f-b107-559bd2814213",
   "metadata": {},
   "outputs": [
    {
     "name": "stdout",
     "output_type": "stream",
     "text": [
      "Columns with missing values:\n",
      " Series([], dtype: int64)\n"
     ]
    }
   ],
   "source": [
    "# Checking for missing values in each column\n",
    "missing_values = house.isnull().sum()\n",
    "\n",
    "# Display the columns with missing values and their count\n",
    "missing_values = missing_values[missing_values > 0]\n",
    "print(\"Columns with missing values:\\n\", missing_values)"
   ]
  },
  {
   "cell_type": "markdown",
   "id": "f8eaa1f6-a288-478e-bccf-4ce70d4ef4b0",
   "metadata": {},
   "source": [
    "In order to improve the performance of our machine learning models, it is important to remove features that may cause noise, or features that doesn't see to be relevant to the goal, such as the id and the date as this information doest have a relation with the price of the house. Additonally, locational data such data such as zipcode, lat, and long is hard to relate to the price of the house, as lat and long are all almost the same, while the zipcode, just identifies what part of King County the house is in, and doesn't really describe the features of the house the much. "
   ]
  },
  {
   "cell_type": "code",
   "execution_count": 2,
   "id": "84e2c3fc-3aec-4a68-b2df-c188c87106ee",
   "metadata": {
    "tags": []
   },
   "outputs": [],
   "source": [
    "house = house.drop('id' , axis = 1)\n",
    "house = house.drop('date' , axis = 1)\n",
    "house = house.drop('zipcode', axis=1)\n",
    "house = house.drop('lat', axis=1)\n",
    "house = house.drop('long', axis=1)"
   ]
  },
  {
   "cell_type": "markdown",
   "id": "cfd3372f-b808-4fa9-bb8a-908ced050918",
   "metadata": {},
   "source": [
    "Columns such as sqft_living15, and sqft_lot15 talks about the neighbor's houses, specifically the living space, and the lot sizes of the nearby 15 houses, given that it is not about the current house, and that it doesn't give much information other than the surroundings, the dropping of this column may prove helpful in predicting the price of the house based on its own features, instead of its surrounding houses."
   ]
  },
  {
   "cell_type": "code",
   "execution_count": 3,
   "id": "a7e25701-f1e6-4e0d-8179-cb054e417f0c",
   "metadata": {},
   "outputs": [],
   "source": [
    "house = house.drop('sqft_living15', axis=1)\n",
    "house = house.drop('sqft_lot15', axis=1)"
   ]
  },
  {
   "cell_type": "code",
   "execution_count": 4,
   "id": "a5b32780-e20d-4040-b170-fd09176d9823",
   "metadata": {},
   "outputs": [],
   "source": [
    "X = house.iloc[:, 1:]\n",
    "y = house ['price']"
   ]
  },
  {
   "cell_type": "markdown",
   "id": "3b3bb059-1da2-4fa8-be68-9a7b1b58c01e",
   "metadata": {},
   "source": [
    "Batch Normalization is an important preprocessing technique that can improve the performance of the ML model. As such it is very important to perform this preprocessing technique on this dataset due to the nature of the values for each feature. For example the values that represents the sqft sizes of the houses are in the thousands, while the values for the other features like the number of bedrooms are just in either the tens or ones place."
   ]
  },
  {
   "cell_type": "code",
   "execution_count": 5,
   "id": "a32fb131-8c17-473c-a7a6-dd55813b25ff",
   "metadata": {
    "tags": []
   },
   "outputs": [
    {
     "name": "stdout",
     "output_type": "stream",
     "text": [
      "[[-0.39873715 -1.44746357 -0.97983502 ... -0.65868104 -0.54489777\n",
      "  -0.21012839]\n",
      " [-0.39873715  0.1756067   0.53363434 ...  0.2451414  -0.6810785\n",
      "   4.7466776 ]\n",
      " [-1.47395936 -1.44746357 -1.42625404 ... -0.65868104 -1.29389179\n",
      "  -0.21012839]\n",
      " ...\n",
      " [-1.47395936 -1.77207762 -1.15404732 ... -0.65868104  1.29354209\n",
      "  -0.21012839]\n",
      " [-0.39873715  0.50022075 -0.52252773 ... -0.65868104  1.12331618\n",
      "  -0.21012839]\n",
      " [-1.47395936 -1.77207762 -1.15404732 ... -0.65868104  1.25949691\n",
      "  -0.21012839]]\n"
     ]
    }
   ],
   "source": [
    "from sklearn.preprocessing import StandardScaler\n",
    "scaler = StandardScaler()\n",
    "scaler.fit(X)\n",
    "scaled_X = scaler.transform(X)\n",
    "print(scaled_X)"
   ]
  },
  {
   "cell_type": "markdown",
   "id": "5663bb8a",
   "metadata": {
    "tags": []
   },
   "source": [
    "## V. EXPLORATORY DATA ANALYSIS"
   ]
  },
  {
   "cell_type": "markdown",
   "id": "d8de4312-610d-46e9-99c7-d046544b3307",
   "metadata": {},
   "source": [
    "Load the House Prices Dataset"
   ]
  },
  {
   "cell_type": "code",
   "execution_count": 6,
   "id": "12a1f9a1-1811-4ce9-ac51-f63325905239",
   "metadata": {},
   "outputs": [],
   "source": [
    "import matplotlib.pyplot as plt\n",
    "%matplotlib inline\n",
    "import numpy as np"
   ]
  },
  {
   "cell_type": "code",
   "execution_count": 7,
   "id": "679773fb-6746-4278-975c-c1852ffb174b",
   "metadata": {},
   "outputs": [
    {
     "data": {
      "text/html": [
       "<div>\n",
       "<style scoped>\n",
       "    .dataframe tbody tr th:only-of-type {\n",
       "        vertical-align: middle;\n",
       "    }\n",
       "\n",
       "    .dataframe tbody tr th {\n",
       "        vertical-align: top;\n",
       "    }\n",
       "\n",
       "    .dataframe thead th {\n",
       "        text-align: right;\n",
       "    }\n",
       "</style>\n",
       "<table border=\"1\" class=\"dataframe\">\n",
       "  <thead>\n",
       "    <tr style=\"text-align: right;\">\n",
       "      <th></th>\n",
       "      <th>price</th>\n",
       "      <th>bedrooms</th>\n",
       "      <th>bathrooms</th>\n",
       "      <th>sqft_living</th>\n",
       "      <th>sqft_lot</th>\n",
       "      <th>floors</th>\n",
       "      <th>waterfront</th>\n",
       "      <th>view</th>\n",
       "      <th>condition</th>\n",
       "      <th>grade</th>\n",
       "      <th>sqft_above</th>\n",
       "      <th>sqft_basement</th>\n",
       "      <th>yr_built</th>\n",
       "      <th>yr_renovated</th>\n",
       "    </tr>\n",
       "  </thead>\n",
       "  <tbody>\n",
       "    <tr>\n",
       "      <th>0</th>\n",
       "      <td>221900.0</td>\n",
       "      <td>3</td>\n",
       "      <td>1.00</td>\n",
       "      <td>1180</td>\n",
       "      <td>5650</td>\n",
       "      <td>1.0</td>\n",
       "      <td>0</td>\n",
       "      <td>0</td>\n",
       "      <td>3</td>\n",
       "      <td>7</td>\n",
       "      <td>1180</td>\n",
       "      <td>0</td>\n",
       "      <td>1955</td>\n",
       "      <td>0</td>\n",
       "    </tr>\n",
       "    <tr>\n",
       "      <th>1</th>\n",
       "      <td>538000.0</td>\n",
       "      <td>3</td>\n",
       "      <td>2.25</td>\n",
       "      <td>2570</td>\n",
       "      <td>7242</td>\n",
       "      <td>2.0</td>\n",
       "      <td>0</td>\n",
       "      <td>0</td>\n",
       "      <td>3</td>\n",
       "      <td>7</td>\n",
       "      <td>2170</td>\n",
       "      <td>400</td>\n",
       "      <td>1951</td>\n",
       "      <td>1991</td>\n",
       "    </tr>\n",
       "    <tr>\n",
       "      <th>2</th>\n",
       "      <td>180000.0</td>\n",
       "      <td>2</td>\n",
       "      <td>1.00</td>\n",
       "      <td>770</td>\n",
       "      <td>10000</td>\n",
       "      <td>1.0</td>\n",
       "      <td>0</td>\n",
       "      <td>0</td>\n",
       "      <td>3</td>\n",
       "      <td>6</td>\n",
       "      <td>770</td>\n",
       "      <td>0</td>\n",
       "      <td>1933</td>\n",
       "      <td>0</td>\n",
       "    </tr>\n",
       "    <tr>\n",
       "      <th>3</th>\n",
       "      <td>604000.0</td>\n",
       "      <td>4</td>\n",
       "      <td>3.00</td>\n",
       "      <td>1960</td>\n",
       "      <td>5000</td>\n",
       "      <td>1.0</td>\n",
       "      <td>0</td>\n",
       "      <td>0</td>\n",
       "      <td>5</td>\n",
       "      <td>7</td>\n",
       "      <td>1050</td>\n",
       "      <td>910</td>\n",
       "      <td>1965</td>\n",
       "      <td>0</td>\n",
       "    </tr>\n",
       "    <tr>\n",
       "      <th>4</th>\n",
       "      <td>510000.0</td>\n",
       "      <td>3</td>\n",
       "      <td>2.00</td>\n",
       "      <td>1680</td>\n",
       "      <td>8080</td>\n",
       "      <td>1.0</td>\n",
       "      <td>0</td>\n",
       "      <td>0</td>\n",
       "      <td>3</td>\n",
       "      <td>8</td>\n",
       "      <td>1680</td>\n",
       "      <td>0</td>\n",
       "      <td>1987</td>\n",
       "      <td>0</td>\n",
       "    </tr>\n",
       "  </tbody>\n",
       "</table>\n",
       "</div>"
      ],
      "text/plain": [
       "      price  bedrooms  bathrooms  sqft_living  sqft_lot  floors  waterfront   \n",
       "0  221900.0         3       1.00         1180      5650     1.0           0  \\\n",
       "1  538000.0         3       2.25         2570      7242     2.0           0   \n",
       "2  180000.0         2       1.00          770     10000     1.0           0   \n",
       "3  604000.0         4       3.00         1960      5000     1.0           0   \n",
       "4  510000.0         3       2.00         1680      8080     1.0           0   \n",
       "\n",
       "   view  condition  grade  sqft_above  sqft_basement  yr_built  yr_renovated  \n",
       "0     0          3      7        1180              0      1955             0  \n",
       "1     0          3      7        2170            400      1951          1991  \n",
       "2     0          3      6         770              0      1933             0  \n",
       "3     0          5      7        1050            910      1965             0  \n",
       "4     0          3      8        1680              0      1987             0  "
      ]
     },
     "execution_count": 7,
     "metadata": {},
     "output_type": "execute_result"
    }
   ],
   "source": [
    "house.head()"
   ]
  },
  {
   "cell_type": "markdown",
   "id": "127d59ad-ef06-431f-b041-b581c29a03aa",
   "metadata": {},
   "source": [
    "### What is the Mean Price of the Houses?"
   ]
  },
  {
   "cell_type": "code",
   "execution_count": 8,
   "id": "a05ded1c-6a0e-4c7a-a132-10bde89e4d0f",
   "metadata": {},
   "outputs": [
    {
     "name": "stdout",
     "output_type": "stream",
     "text": [
      "540088.1417665294\n"
     ]
    }
   ],
   "source": [
    "mean_price = y.mean()\n",
    "print (mean_price)"
   ]
  },
  {
   "cell_type": "markdown",
   "id": "caf9b1b9-99da-4ef5-880e-6ed3bd860df5",
   "metadata": {
    "tags": []
   },
   "source": [
    "### Find What Feature Affects the Price of the House the Most through correlation"
   ]
  },
  {
   "cell_type": "code",
   "execution_count": 9,
   "id": "382fa74b-6e4f-4662-96f5-577a6c3b162f",
   "metadata": {},
   "outputs": [
    {
     "data": {
      "image/png": "[encoded data removed]",
      "text/plain": [
       "<Figure size 1200x800 with 1 Axes>"
      ]
     },
     "metadata": {},
     "output_type": "display_data"
    }
   ],
   "source": [
    "correlation_matrix = house.corr()\n",
    "corr_price = correlation_matrix['price']\n",
    "\n",
    "plt.figure(figsize=(12, 8)) \n",
    "plt.bar(corr_price.index, corr_price.values)\n",
    "plt.xlabel('Features')\n",
    "plt.ylabel('Correlation Value')\n",
    "plt.title('Correlation of Features and Price')\n",
    "plt.xticks(rotation=45, ha='right')\n",
    "plt.show()"
   ]
  },
  {
   "cell_type": "markdown",
   "id": "833fa664-a19e-4eb4-95e0-a88e38012ccf",
   "metadata": {},
   "source": [
    "According to the correlation chart, the size of the living space is what affects the price of the house the most, after the living space, the grade or the build quality is what affects the price the most."
   ]
  },
  {
   "cell_type": "markdown",
   "id": "9d8dcb1c-a1fb-44f2-87d6-1b1db24545ec",
   "metadata": {},
   "source": [
    "### What is the relationship of Living Space and the Price of the house"
   ]
  },
  {
   "cell_type": "code",
   "execution_count": 10,
   "id": "5ae70c0b-be71-4f28-8fd5-0bd21498e6ec",
   "metadata": {},
   "outputs": [
    {
     "data": {
      "image/png": "[encoded data removed]",
      "text/plain": [
       "<Figure size 1200x800 with 1 Axes>"
      ]
     },
     "metadata": {},
     "output_type": "display_data"
    }
   ],
   "source": [
    "Price_per_livingspace = house.groupby('price')['sqft_living'].mean()\n",
    "\n",
    "plt.figure(figsize=(12, 8)) \n",
    "plt.plot(Price_per_livingspace.index, Price_per_livingspace.values)\n",
    "plt.xlabel('price')\n",
    "plt.ylabel('sqft_living')\n",
    "plt.title('Average price per living size')\n",
    "plt.show()"
   ]
  },
  {
   "cell_type": "markdown",
   "id": "82b4c97b-afa5-40f1-87d6-150b842a4a0c",
   "metadata": {},
   "source": [
    "As seen in the graph above, it can be seen that there is an upward trend in the price of the Houses. Despite it being unstable around the lower parts, it can be seen that the minimum and maximum prices increases as the living size of the houses increase as well."
   ]
  },
  {
   "cell_type": "markdown",
   "id": "45eca0be-e941-417c-963f-138695add707",
   "metadata": {},
   "source": [
    "### Do Homes that has a lot of Living Space usually have good Build Quality?"
   ]
  },
  {
   "cell_type": "code",
   "execution_count": 11,
   "id": "498c3e72-bcdd-4b0a-9c43-9c3089aab8a9",
   "metadata": {},
   "outputs": [
    {
     "data": {
      "image/png": "[encoded data removed]",
      "text/plain": [
       "<Figure size 1200x800 with 1 Axes>"
      ]
     },
     "metadata": {},
     "output_type": "display_data"
    }
   ],
   "source": [
    "mean_size_per_Grade = house.groupby('grade')['sqft_living'].mean()\n",
    "\n",
    "plt.figure(figsize=(12, 8)) \n",
    "plt.plot(mean_size_per_Grade.index, mean_size_per_Grade.values)\n",
    "plt.xlabel('grade')\n",
    "plt.ylabel('sqft_living')\n",
    "plt.title('Average Size per Grade')\n",
    "plt.show()"
   ]
  },
  {
   "cell_type": "markdown",
   "id": "40ffacf5-fd08-4975-9419-4eb4ec00c2e2",
   "metadata": {},
   "source": [
    "According to the graph, the relationship between the grade and the living space is directly proportional"
   ]
  },
  {
   "cell_type": "markdown",
   "id": "24b2c661-9ded-4dbe-96a6-15404f43977e",
   "metadata": {},
   "source": [
    "### "
   ]
  },
  {
   "cell_type": "markdown",
   "id": "67e98b16-c247-4fe1-9679-b38c97078333",
   "metadata": {},
   "source": [
    "## VI. MODEL TRAINING (tama pa ba tong pinaggawa ko HAHAHAHA )"
   ]
  },
  {
   "cell_type": "code",
   "execution_count": 12,
   "id": "0c4616b8-9e61-403b-812d-8d1897783a26",
   "metadata": {},
   "outputs": [
    {
     "name": "stdout",
     "output_type": "stream",
     "text": [
      "(16209, 13)\n",
      "(16209,)\n",
      "(5404, 13)\n",
      "(5404,)\n"
     ]
    }
   ],
   "source": [
    "from sklearn.model_selection import train_test_split\n",
    "X_train, X_test, y_train, y_test = train_test_split (scaled_X, y, random_state = 0)\n",
    "print(X_train.shape)\n",
    "print(y_train.shape)\n",
    "print(X_test.shape)\n",
    "print(y_test.shape)"
   ]
  },
  {
   "cell_type": "markdown",
   "id": "8e744544-3a5c-48c0-8e66-9dfc57113fb4",
   "metadata": {},
   "source": [
    "## Ordinary Least Squares Linear Regression"
   ]
  },
  {
   "cell_type": "code",
   "execution_count": 13,
   "id": "360dfed3-1190-4603-839b-dfe9f17b8013",
   "metadata": {
    "tags": []
   },
   "outputs": [
    {
     "data": {
      "text/html": [
       "<style>#sk-container-id-1 {color: black;background-color: white;}#sk-container-id-1 pre{padding: 0;}#sk-container-id-1 div.sk-toggleable {background-color: white;}#sk-container-id-1 label.sk-toggleable__label {cursor: pointer;display: block;width: 100%;margin-bottom: 0;padding: 0.3em;box-sizing: border-box;text-align: center;}#sk-container-id-1 label.sk-toggleable__label-arrow:before {content: \"▸\";float: left;margin-right: 0.25em;color: #696969;}#sk-container-id-1 label.sk-toggleable__label-arrow:hover:before {color: black;}#sk-container-id-1 div.sk-estimator:hover label.sk-toggleable__label-arrow:before {color: black;}#sk-container-id-1 div.sk-toggleable__content {max-height: 0;max-width: 0;overflow: hidden;text-align: left;background-color: #f0f8ff;}#sk-container-id-1 div.sk-toggleable__content pre {margin: 0.2em;color: black;border-radius: 0.25em;background-color: #f0f8ff;}#sk-container-id-1 input.sk-toggleable__control:checked~div.sk-toggleable__content {max-height: 200px;max-width: 100%;overflow: auto;}#sk-container-id-1 input.sk-toggleable__control:checked~label.sk-toggleable__label-arrow:before {content: \"▾\";}#sk-container-id-1 div.sk-estimator input.sk-toggleable__control:checked~label.sk-toggleable__label {background-color: #d4ebff;}#sk-container-id-1 div.sk-label input.sk-toggleable__control:checked~label.sk-toggleable__label {background-color: #d4ebff;}#sk-container-id-1 input.sk-hidden--visually {border: 0;clip: rect(1px 1px 1px 1px);clip: rect(1px, 1px, 1px, 1px);height: 1px;margin: -1px;overflow: hidden;padding: 0;position: absolute;width: 1px;}#sk-container-id-1 div.sk-estimator {font-family: monospace;background-color: #f0f8ff;border: 1px dotted black;border-radius: 0.25em;box-sizing: border-box;margin-bottom: 0.5em;}#sk-container-id-1 div.sk-estimator:hover {background-color: #d4ebff;}#sk-container-id-1 div.sk-parallel-item::after {content: \"\";width: 100%;border-bottom: 1px solid gray;flex-grow: 1;}#sk-container-id-1 div.sk-label:hover label.sk-toggleable__label {background-color: #d4ebff;}#sk-container-id-1 div.sk-serial::before {content: \"\";position: absolute;border-left: 1px solid gray;box-sizing: border-box;top: 0;bottom: 0;left: 50%;z-index: 0;}#sk-container-id-1 div.sk-serial {display: flex;flex-direction: column;align-items: center;background-color: white;padding-right: 0.2em;padding-left: 0.2em;position: relative;}#sk-container-id-1 div.sk-item {position: relative;z-index: 1;}#sk-container-id-1 div.sk-parallel {display: flex;align-items: stretch;justify-content: center;background-color: white;position: relative;}#sk-container-id-1 div.sk-item::before, #sk-container-id-1 div.sk-parallel-item::before {content: \"\";position: absolute;border-left: 1px solid gray;box-sizing: border-box;top: 0;bottom: 0;left: 50%;z-index: -1;}#sk-container-id-1 div.sk-parallel-item {display: flex;flex-direction: column;z-index: 1;position: relative;background-color: white;}#sk-container-id-1 div.sk-parallel-item:first-child::after {align-self: flex-end;width: 50%;}#sk-container-id-1 div.sk-parallel-item:last-child::after {align-self: flex-start;width: 50%;}#sk-container-id-1 div.sk-parallel-item:only-child::after {width: 0;}#sk-container-id-1 div.sk-dashed-wrapped {border: 1px dashed gray;margin: 0 0.4em 0.5em 0.4em;box-sizing: border-box;padding-bottom: 0.4em;background-color: white;}#sk-container-id-1 div.sk-label label {font-family: monospace;font-weight: bold;display: inline-block;line-height: 1.2em;}#sk-container-id-1 div.sk-label-container {text-align: center;}#sk-container-id-1 div.sk-container {/* jupyter's `normalize.less` sets `[hidden] { display: none; }` but bootstrap.min.css set `[hidden] { display: none !important; }` so we also need the `!important` here to be able to override the default hidden behavior on the sphinx rendered scikit-learn.org. See: https://github.com/scikit-learn/scikit-learn/issues/21755 */display: inline-block !important;position: relative;}#sk-container-id-1 div.sk-text-repr-fallback {display: none;}</style><div id=\"sk-container-id-1\" class=\"sk-top-container\"><div class=\"sk-text-repr-fallback\"><pre>LinearRegression()</pre><b>In a Jupyter environment, please rerun this cell to show the HTML representation or trust the notebook. <br />On GitHub, the HTML representation is unable to render, please try loading this page with nbviewer.org.</b></div><div class=\"sk-container\" hidden><div class=\"sk-item\"><div class=\"sk-estimator sk-toggleable\"><input class=\"sk-toggleable__control sk-hidden--visually\" id=\"sk-estimator-id-1\" type=\"checkbox\" checked><label for=\"sk-estimator-id-1\" class=\"sk-toggleable__label sk-toggleable__label-arrow\">LinearRegression</label><div class=\"sk-toggleable__content\"><pre>LinearRegression()</pre></div></div></div></div></div>"
      ],
      "text/plain": [
       "LinearRegression()"
      ]
     },
     "execution_count": 13,
     "metadata": {},
     "output_type": "execute_result"
    }
   ],
   "source": [
    "from sklearn.linear_model import LinearRegression\n",
    "model = LinearRegression()\n",
    "model.fit (X_train, y_train)"
   ]
  },
  {
   "cell_type": "code",
   "execution_count": 14,
   "id": "f5eb3a9f-b263-4b6d-a9b2-988a3a83030d",
   "metadata": {},
   "outputs": [],
   "source": [
    "y_pred = model.predict (X_train)"
   ]
  },
  {
   "cell_type": "code",
   "execution_count": 15,
   "id": "5925445b-59f5-4d94-b6ad-2d89377d0626",
   "metadata": {},
   "outputs": [],
   "source": [
    "def compute_RMSE(y_true, y_pred):\n",
    "    rmse = (y_pred - y_true) ** 2\n",
    "    rmse = np.mean(rmse)\n",
    "    rmse = np.sqrt(rmse)\n",
    "    return rmse"
   ]
  },
  {
   "cell_type": "code",
   "execution_count": 16,
   "id": "ed99d313-8af9-4660-b1b2-98a14a8acdf2",
   "metadata": {},
   "outputs": [
    {
     "name": "stdout",
     "output_type": "stream",
     "text": [
      "216288.4086347701\n"
     ]
    }
   ],
   "source": [
    "print (compute_RMSE(y_train, y_pred))"
   ]
  },
  {
   "cell_type": "code",
   "execution_count": 17,
   "id": "e80c8d6c-ec1a-426e-8c96-d59e26771634",
   "metadata": {},
   "outputs": [
    {
     "name": "stdout",
     "output_type": "stream",
     "text": [
      "217428.14799568857\n"
     ]
    }
   ],
   "source": [
    "y_pred = model.predict (X_test)\n",
    "print (compute_RMSE(y_test, y_pred))"
   ]
  },
  {
   "cell_type": "markdown",
   "id": "184f1778-4e69-4ad6-86d1-76c21e42d510",
   "metadata": {},
   "source": [
    "## Regression with Stochastic Gradient Descent "
   ]
  },
  {
   "cell_type": "markdown",
   "id": "d31f8f98-6c0a-4c90-930e-618df536764a",
   "metadata": {},
   "source": [
    "Stochastic Gradient Descent will be done to train the dataset, and will be using default parameters.\n",
    "* loss = \"squared_error\"\n",
    "* penalty - l2 (ridge)\n",
    "* alpha = 0.0001\n",
    "* max_iter = 1000\n",
    "* learning_rate = invscaling\n",
    "* eta0 or initial learning rate = 0.01"
   ]
  },
  {
   "cell_type": "code",
   "execution_count": 18,
   "id": "06adc21e-b5a4-413e-b2e6-287de1215e10",
   "metadata": {},
   "outputs": [
    {
     "data": {
      "text/html": [
       "<style>#sk-container-id-2 {color: black;background-color: white;}#sk-container-id-2 pre{padding: 0;}#sk-container-id-2 div.sk-toggleable {background-color: white;}#sk-container-id-2 label.sk-toggleable__label {cursor: pointer;display: block;width: 100%;margin-bottom: 0;padding: 0.3em;box-sizing: border-box;text-align: center;}#sk-container-id-2 label.sk-toggleable__label-arrow:before {content: \"▸\";float: left;margin-right: 0.25em;color: #696969;}#sk-container-id-2 label.sk-toggleable__label-arrow:hover:before {color: black;}#sk-container-id-2 div.sk-estimator:hover label.sk-toggleable__label-arrow:before {color: black;}#sk-container-id-2 div.sk-toggleable__content {max-height: 0;max-width: 0;overflow: hidden;text-align: left;background-color: #f0f8ff;}#sk-container-id-2 div.sk-toggleable__content pre {margin: 0.2em;color: black;border-radius: 0.25em;background-color: #f0f8ff;}#sk-container-id-2 input.sk-toggleable__control:checked~div.sk-toggleable__content {max-height: 200px;max-width: 100%;overflow: auto;}#sk-container-id-2 input.sk-toggleable__control:checked~label.sk-toggleable__label-arrow:before {content: \"▾\";}#sk-container-id-2 div.sk-estimator input.sk-toggleable__control:checked~label.sk-toggleable__label {background-color: #d4ebff;}#sk-container-id-2 div.sk-label input.sk-toggleable__control:checked~label.sk-toggleable__label {background-color: #d4ebff;}#sk-container-id-2 input.sk-hidden--visually {border: 0;clip: rect(1px 1px 1px 1px);clip: rect(1px, 1px, 1px, 1px);height: 1px;margin: -1px;overflow: hidden;padding: 0;position: absolute;width: 1px;}#sk-container-id-2 div.sk-estimator {font-family: monospace;background-color: #f0f8ff;border: 1px dotted black;border-radius: 0.25em;box-sizing: border-box;margin-bottom: 0.5em;}#sk-container-id-2 div.sk-estimator:hover {background-color: #d4ebff;}#sk-container-id-2 div.sk-parallel-item::after {content: \"\";width: 100%;border-bottom: 1px solid gray;flex-grow: 1;}#sk-container-id-2 div.sk-label:hover label.sk-toggleable__label {background-color: #d4ebff;}#sk-container-id-2 div.sk-serial::before {content: \"\";position: absolute;border-left: 1px solid gray;box-sizing: border-box;top: 0;bottom: 0;left: 50%;z-index: 0;}#sk-container-id-2 div.sk-serial {display: flex;flex-direction: column;align-items: center;background-color: white;padding-right: 0.2em;padding-left: 0.2em;position: relative;}#sk-container-id-2 div.sk-item {position: relative;z-index: 1;}#sk-container-id-2 div.sk-parallel {display: flex;align-items: stretch;justify-content: center;background-color: white;position: relative;}#sk-container-id-2 div.sk-item::before, #sk-container-id-2 div.sk-parallel-item::before {content: \"\";position: absolute;border-left: 1px solid gray;box-sizing: border-box;top: 0;bottom: 0;left: 50%;z-index: -1;}#sk-container-id-2 div.sk-parallel-item {display: flex;flex-direction: column;z-index: 1;position: relative;background-color: white;}#sk-container-id-2 div.sk-parallel-item:first-child::after {align-self: flex-end;width: 50%;}#sk-container-id-2 div.sk-parallel-item:last-child::after {align-self: flex-start;width: 50%;}#sk-container-id-2 div.sk-parallel-item:only-child::after {width: 0;}#sk-container-id-2 div.sk-dashed-wrapped {border: 1px dashed gray;margin: 0 0.4em 0.5em 0.4em;box-sizing: border-box;padding-bottom: 0.4em;background-color: white;}#sk-container-id-2 div.sk-label label {font-family: monospace;font-weight: bold;display: inline-block;line-height: 1.2em;}#sk-container-id-2 div.sk-label-container {text-align: center;}#sk-container-id-2 div.sk-container {/* jupyter's `normalize.less` sets `[hidden] { display: none; }` but bootstrap.min.css set `[hidden] { display: none !important; }` so we also need the `!important` here to be able to override the default hidden behavior on the sphinx rendered scikit-learn.org. See: https://github.com/scikit-learn/scikit-learn/issues/21755 */display: inline-block !important;position: relative;}#sk-container-id-2 div.sk-text-repr-fallback {display: none;}</style><div id=\"sk-container-id-2\" class=\"sk-top-container\"><div class=\"sk-text-repr-fallback\"><pre>SGDRegressor()</pre><b>In a Jupyter environment, please rerun this cell to show the HTML representation or trust the notebook. <br />On GitHub, the HTML representation is unable to render, please try loading this page with nbviewer.org.</b></div><div class=\"sk-container\" hidden><div class=\"sk-item\"><div class=\"sk-estimator sk-toggleable\"><input class=\"sk-toggleable__control sk-hidden--visually\" id=\"sk-estimator-id-2\" type=\"checkbox\" checked><label for=\"sk-estimator-id-2\" class=\"sk-toggleable__label sk-toggleable__label-arrow\">SGDRegressor</label><div class=\"sk-toggleable__content\"><pre>SGDRegressor()</pre></div></div></div></div></div>"
      ],
      "text/plain": [
       "SGDRegressor()"
      ]
     },
     "execution_count": 18,
     "metadata": {},
     "output_type": "execute_result"
    }
   ],
   "source": [
    "from sklearn.linear_model import SGDRegressor\n",
    "model = SGDRegressor()\n",
    "model.fit(X_train, y_train)"
   ]
  },
  {
   "cell_type": "code",
   "execution_count": 19,
   "id": "9e9f7516-c701-40cd-a077-e6aa99f5186f",
   "metadata": {},
   "outputs": [],
   "source": [
    "y_pred = model.predict (X_train)"
   ]
  },
  {
   "cell_type": "code",
   "execution_count": 20,
   "id": "d461803b-bc7c-4ddd-af65-43e8e4f4049e",
   "metadata": {
    "tags": []
   },
   "outputs": [
    {
     "name": "stdout",
     "output_type": "stream",
     "text": [
      "216668.56598959144\n"
     ]
    }
   ],
   "source": [
    "print (compute_RMSE(y_train, y_pred))"
   ]
  },
  {
   "cell_type": "code",
   "execution_count": 21,
   "id": "c4798209-404f-4d3b-9ab1-212a515d5120",
   "metadata": {},
   "outputs": [
    {
     "name": "stdout",
     "output_type": "stream",
     "text": [
      "218334.74714991127\n"
     ]
    }
   ],
   "source": [
    "y_pred = model.predict (X_test)\n",
    "print (compute_RMSE(y_test, y_pred))"
   ]
  },
  {
   "cell_type": "markdown",
   "id": "144dc969-5481-4762-90a2-a90d3b8d969b",
   "metadata": {},
   "source": [
    "## Regression with Support Vector Machines"
   ]
  },
  {
   "cell_type": "code",
   "execution_count": 22,
   "id": "3e30a7fb-11cd-41e2-a689-eb2ea06a5afc",
   "metadata": {},
   "outputs": [
    {
     "name": "stdout",
     "output_type": "stream",
     "text": [
      "{'C': 1.0, 'cache_size': 200, 'coef0': 0.0, 'degree': 3, 'epsilon': 0.1, 'gamma': 'scale', 'kernel': 'rbf', 'max_iter': -1, 'shrinking': True, 'tol': 0.001, 'verbose': False}\n",
      "378105.25417492783\n"
     ]
    }
   ],
   "source": [
    "from sklearn.svm import SVR\n",
    "model = SVR()\n",
    "print (model.get_params())\n",
    "model.fit (X_train, y_train)\n",
    "y_pred = model.predict (X_train)\n",
    "print (compute_RMSE(y_train, y_pred))"
   ]
  },
  {
   "cell_type": "code",
   "execution_count": 23,
   "id": "5a5df7bc-affe-4a57-84fb-2e08c5f2c112",
   "metadata": {},
   "outputs": [
    {
     "name": "stdout",
     "output_type": "stream",
     "text": [
      "373168.7475293749\n"
     ]
    }
   ],
   "source": [
    "y_pred = model.predict (X_test)\n",
    "print (compute_RMSE(y_test, y_pred))"
   ]
  },
  {
   "cell_type": "markdown",
   "id": "c029e13c-e335-4f77-9293-819093da0459",
   "metadata": {},
   "source": [
    "## VII. HYPERPARAMETER TUNING"
   ]
  },
  {
   "cell_type": "markdown",
   "id": "47a7dce4-cf78-4339-afff-853239ce7521",
   "metadata": {},
   "source": [
    "In Order to find the best model to use in predicting the house prices given the features of the house, hyperparameter tuning must be accomplished."
   ]
  },
  {
   "cell_type": "markdown",
   "id": "57827547-c86d-4519-a7ab-262e6689780a",
   "metadata": {},
   "source": [
    "### Hyperparameter Tuning by RandomizedSearchCV"
   ]
  },
  {
   "cell_type": "markdown",
   "id": "ef06e63e-f08d-4339-85a2-5c2d21174602",
   "metadata": {},
   "source": [
    "#### Ordinary Least Squares Linear Regression"
   ]
  },
  {
   "cell_type": "code",
   "execution_count": 24,
   "id": "656efe30-b26c-4d0b-96a2-094c20e2afb0",
   "metadata": {},
   "outputs": [
    {
     "name": "stdout",
     "output_type": "stream",
     "text": [
      "{'copy_X': True, 'fit_intercept': True, 'n_jobs': None, 'positive': False}\n"
     ]
    },
    {
     "data": {
      "text/plain": [
       "dict_keys(['copy_X', 'fit_intercept', 'n_jobs', 'positive'])"
      ]
     },
     "execution_count": 24,
     "metadata": {},
     "output_type": "execute_result"
    }
   ],
   "source": [
    "from sklearn.model_selection import RandomizedSearchCV\n",
    "model = LinearRegression()\n",
    "print (model.get_params())\n",
    "model.get_params().keys()"
   ]
  },
  {
   "cell_type": "code",
   "execution_count": 25,
   "id": "40163c66-9c8f-4461-89c5-3f094eb6fd4a",
   "metadata": {},
   "outputs": [],
   "source": [
    "hyperparameters = [\n",
    "    {\n",
    "        \"copy_X\" : [ True, False ],\n",
    "        \"fit_intercept\" : [True, False],\n",
    "        \"positive\" : [True, False]\n",
    "    }\n",
    "]"
   ]
  },
  {
   "cell_type": "code",
   "execution_count": 26,
   "id": "9d9e5690-499a-46f8-94c8-8d4eb9eaf669",
   "metadata": {},
   "outputs": [],
   "source": [
    "rsc_house = RandomizedSearchCV (estimator = model , param_distributions = hyperparameters , n_iter = 8, cv = 5, random_state = 42)"
   ]
  },
  {
   "cell_type": "code",
   "execution_count": 27,
   "id": "66ea349a-38ae-4f0c-99ab-433bbcfeb4fe",
   "metadata": {},
   "outputs": [
    {
     "data": {
      "text/html": [
       "<style>#sk-container-id-3 {color: black;background-color: white;}#sk-container-id-3 pre{padding: 0;}#sk-container-id-3 div.sk-toggleable {background-color: white;}#sk-container-id-3 label.sk-toggleable__label {cursor: pointer;display: block;width: 100%;margin-bottom: 0;padding: 0.3em;box-sizing: border-box;text-align: center;}#sk-container-id-3 label.sk-toggleable__label-arrow:before {content: \"▸\";float: left;margin-right: 0.25em;color: #696969;}#sk-container-id-3 label.sk-toggleable__label-arrow:hover:before {color: black;}#sk-container-id-3 div.sk-estimator:hover label.sk-toggleable__label-arrow:before {color: black;}#sk-container-id-3 div.sk-toggleable__content {max-height: 0;max-width: 0;overflow: hidden;text-align: left;background-color: #f0f8ff;}#sk-container-id-3 div.sk-toggleable__content pre {margin: 0.2em;color: black;border-radius: 0.25em;background-color: #f0f8ff;}#sk-container-id-3 input.sk-toggleable__control:checked~div.sk-toggleable__content {max-height: 200px;max-width: 100%;overflow: auto;}#sk-container-id-3 input.sk-toggleable__control:checked~label.sk-toggleable__label-arrow:before {content: \"▾\";}#sk-container-id-3 div.sk-estimator input.sk-toggleable__control:checked~label.sk-toggleable__label {background-color: #d4ebff;}#sk-container-id-3 div.sk-label input.sk-toggleable__control:checked~label.sk-toggleable__label {background-color: #d4ebff;}#sk-container-id-3 input.sk-hidden--visually {border: 0;clip: rect(1px 1px 1px 1px);clip: rect(1px, 1px, 1px, 1px);height: 1px;margin: -1px;overflow: hidden;padding: 0;position: absolute;width: 1px;}#sk-container-id-3 div.sk-estimator {font-family: monospace;background-color: #f0f8ff;border: 1px dotted black;border-radius: 0.25em;box-sizing: border-box;margin-bottom: 0.5em;}#sk-container-id-3 div.sk-estimator:hover {background-color: #d4ebff;}#sk-container-id-3 div.sk-parallel-item::after {content: \"\";width: 100%;border-bottom: 1px solid gray;flex-grow: 1;}#sk-container-id-3 div.sk-label:hover label.sk-toggleable__label {background-color: #d4ebff;}#sk-container-id-3 div.sk-serial::before {content: \"\";position: absolute;border-left: 1px solid gray;box-sizing: border-box;top: 0;bottom: 0;left: 50%;z-index: 0;}#sk-container-id-3 div.sk-serial {display: flex;flex-direction: column;align-items: center;background-color: white;padding-right: 0.2em;padding-left: 0.2em;position: relative;}#sk-container-id-3 div.sk-item {position: relative;z-index: 1;}#sk-container-id-3 div.sk-parallel {display: flex;align-items: stretch;justify-content: center;background-color: white;position: relative;}#sk-container-id-3 div.sk-item::before, #sk-container-id-3 div.sk-parallel-item::before {content: \"\";position: absolute;border-left: 1px solid gray;box-sizing: border-box;top: 0;bottom: 0;left: 50%;z-index: -1;}#sk-container-id-3 div.sk-parallel-item {display: flex;flex-direction: column;z-index: 1;position: relative;background-color: white;}#sk-container-id-3 div.sk-parallel-item:first-child::after {align-self: flex-end;width: 50%;}#sk-container-id-3 div.sk-parallel-item:last-child::after {align-self: flex-start;width: 50%;}#sk-container-id-3 div.sk-parallel-item:only-child::after {width: 0;}#sk-container-id-3 div.sk-dashed-wrapped {border: 1px dashed gray;margin: 0 0.4em 0.5em 0.4em;box-sizing: border-box;padding-bottom: 0.4em;background-color: white;}#sk-container-id-3 div.sk-label label {font-family: monospace;font-weight: bold;display: inline-block;line-height: 1.2em;}#sk-container-id-3 div.sk-label-container {text-align: center;}#sk-container-id-3 div.sk-container {/* jupyter's `normalize.less` sets `[hidden] { display: none; }` but bootstrap.min.css set `[hidden] { display: none !important; }` so we also need the `!important` here to be able to override the default hidden behavior on the sphinx rendered scikit-learn.org. See: https://github.com/scikit-learn/scikit-learn/issues/21755 */display: inline-block !important;position: relative;}#sk-container-id-3 div.sk-text-repr-fallback {display: none;}</style><div id=\"sk-container-id-3\" class=\"sk-top-container\"><div class=\"sk-text-repr-fallback\"><pre>RandomizedSearchCV(cv=5, estimator=LinearRegression(), n_iter=8,\n",
       "                   param_distributions=[{&#x27;copy_X&#x27;: [True, False],\n",
       "                                         &#x27;fit_intercept&#x27;: [True, False],\n",
       "                                         &#x27;positive&#x27;: [True, False]}],\n",
       "                   random_state=42)</pre><b>In a Jupyter environment, please rerun this cell to show the HTML representation or trust the notebook. <br />On GitHub, the HTML representation is unable to render, please try loading this page with nbviewer.org.</b></div><div class=\"sk-container\" hidden><div class=\"sk-item sk-dashed-wrapped\"><div class=\"sk-label-container\"><div class=\"sk-label sk-toggleable\"><input class=\"sk-toggleable__control sk-hidden--visually\" id=\"sk-estimator-id-3\" type=\"checkbox\" ><label for=\"sk-estimator-id-3\" class=\"sk-toggleable__label sk-toggleable__label-arrow\">RandomizedSearchCV</label><div class=\"sk-toggleable__content\"><pre>RandomizedSearchCV(cv=5, estimator=LinearRegression(), n_iter=8,\n",
       "                   param_distributions=[{&#x27;copy_X&#x27;: [True, False],\n",
       "                                         &#x27;fit_intercept&#x27;: [True, False],\n",
       "                                         &#x27;positive&#x27;: [True, False]}],\n",
       "                   random_state=42)</pre></div></div></div><div class=\"sk-parallel\"><div class=\"sk-parallel-item\"><div class=\"sk-item\"><div class=\"sk-label-container\"><div class=\"sk-label sk-toggleable\"><input class=\"sk-toggleable__control sk-hidden--visually\" id=\"sk-estimator-id-4\" type=\"checkbox\" ><label for=\"sk-estimator-id-4\" class=\"sk-toggleable__label sk-toggleable__label-arrow\">estimator: LinearRegression</label><div class=\"sk-toggleable__content\"><pre>LinearRegression()</pre></div></div></div><div class=\"sk-serial\"><div class=\"sk-item\"><div class=\"sk-estimator sk-toggleable\"><input class=\"sk-toggleable__control sk-hidden--visually\" id=\"sk-estimator-id-5\" type=\"checkbox\" ><label for=\"sk-estimator-id-5\" class=\"sk-toggleable__label sk-toggleable__label-arrow\">LinearRegression</label><div class=\"sk-toggleable__content\"><pre>LinearRegression()</pre></div></div></div></div></div></div></div></div></div></div>"
      ],
      "text/plain": [
       "RandomizedSearchCV(cv=5, estimator=LinearRegression(), n_iter=8,\n",
       "                   param_distributions=[{'copy_X': [True, False],\n",
       "                                         'fit_intercept': [True, False],\n",
       "                                         'positive': [True, False]}],\n",
       "                   random_state=42)"
      ]
     },
     "execution_count": 27,
     "metadata": {},
     "output_type": "execute_result"
    }
   ],
   "source": [
    "rsc_house.fit (X_train, y_train)"
   ]
  },
  {
   "cell_type": "code",
   "execution_count": 28,
   "id": "56470f86-b367-4928-9eeb-ae63956dbe8e",
   "metadata": {},
   "outputs": [
    {
     "name": "stdout",
     "output_type": "stream",
     "text": [
      "{'positive': False, 'fit_intercept': True, 'copy_X': True}\n"
     ]
    }
   ],
   "source": [
    "best_params = rsc_house.best_params_\n",
    "print(best_params)"
   ]
  },
  {
   "cell_type": "code",
   "execution_count": 29,
   "id": "873d9dc5-68d9-4837-a3e1-8bb5fee612e9",
   "metadata": {},
   "outputs": [
    {
     "name": "stdout",
     "output_type": "stream",
     "text": [
      "217428.14799568857\n"
     ]
    }
   ],
   "source": [
    "best_estimator = rsc_house.best_estimator_\n",
    "y_pred = best_estimator.predict (X_test)\n",
    "print (compute_RMSE(y_test, y_pred))"
   ]
  },
  {
   "cell_type": "markdown",
   "id": "5e9f9c42-6609-4f89-a2ee-c445f86a57d6",
   "metadata": {},
   "source": [
    "#### Regression with Stochastic Gradient Descent"
   ]
  },
  {
   "cell_type": "code",
   "execution_count": 30,
   "id": "fcb3b0be-c878-4aae-bbe5-91f95b406f80",
   "metadata": {},
   "outputs": [
    {
     "name": "stdout",
     "output_type": "stream",
     "text": [
      "{'alpha': 0.0001, 'average': False, 'early_stopping': False, 'epsilon': 0.1, 'eta0': 0.01, 'fit_intercept': True, 'l1_ratio': 0.15, 'learning_rate': 'invscaling', 'loss': 'squared_error', 'max_iter': 1000, 'n_iter_no_change': 5, 'penalty': 'l2', 'power_t': 0.25, 'random_state': None, 'shuffle': True, 'tol': 0.001, 'validation_fraction': 0.1, 'verbose': 0, 'warm_start': False}\n"
     ]
    },
    {
     "data": {
      "text/plain": [
       "dict_keys(['alpha', 'average', 'early_stopping', 'epsilon', 'eta0', 'fit_intercept', 'l1_ratio', 'learning_rate', 'loss', 'max_iter', 'n_iter_no_change', 'penalty', 'power_t', 'random_state', 'shuffle', 'tol', 'validation_fraction', 'verbose', 'warm_start'])"
      ]
     },
     "execution_count": 30,
     "metadata": {},
     "output_type": "execute_result"
    }
   ],
   "source": [
    "model = SGDRegressor()\n",
    "print (model.get_params())\n",
    "model.get_params().keys()"
   ]
  },
  {
   "cell_type": "code",
   "execution_count": 31,
   "id": "b5d0528f-96db-4eca-be96-e78765c4c23d",
   "metadata": {},
   "outputs": [],
   "source": [
    "hyperparameters = [\n",
    "    {\n",
    "        \"alpha\" : [0.0001 , 0.001, 0.01, 0.1 , 1.0],\n",
    "        'l1_ratio': [0.0, 0.1, 0.5, 0.9, 1.0],\n",
    "        'learning_rate': ['constant', 'optimal', 'invscaling', 'adaptive'],\n",
    "        'eta0': [0.01, 0.1, 0.5]\n",
    "    }\n",
    "]"
   ]
  },
  {
   "cell_type": "code",
   "execution_count": 32,
   "id": "4c0e5bc5-9825-4551-97d6-217555917d0e",
   "metadata": {},
   "outputs": [],
   "source": [
    "rsc_house = RandomizedSearchCV (estimator = model , param_distributions = hyperparameters , n_iter = 50, cv = 5, random_state = 42)"
   ]
  },
  {
   "cell_type": "code",
   "execution_count": 33,
   "id": "c97f6886-e826-4905-8b40-8d4193624a77",
   "metadata": {},
   "outputs": [
    {
     "data": {
      "text/html": [
       "<style>#sk-container-id-4 {color: black;background-color: white;}#sk-container-id-4 pre{padding: 0;}#sk-container-id-4 div.sk-toggleable {background-color: white;}#sk-container-id-4 label.sk-toggleable__label {cursor: pointer;display: block;width: 100%;margin-bottom: 0;padding: 0.3em;box-sizing: border-box;text-align: center;}#sk-container-id-4 label.sk-toggleable__label-arrow:before {content: \"▸\";float: left;margin-right: 0.25em;color: #696969;}#sk-container-id-4 label.sk-toggleable__label-arrow:hover:before {color: black;}#sk-container-id-4 div.sk-estimator:hover label.sk-toggleable__label-arrow:before {color: black;}#sk-container-id-4 div.sk-toggleable__content {max-height: 0;max-width: 0;overflow: hidden;text-align: left;background-color: #f0f8ff;}#sk-container-id-4 div.sk-toggleable__content pre {margin: 0.2em;color: black;border-radius: 0.25em;background-color: #f0f8ff;}#sk-container-id-4 input.sk-toggleable__control:checked~div.sk-toggleable__content {max-height: 200px;max-width: 100%;overflow: auto;}#sk-container-id-4 input.sk-toggleable__control:checked~label.sk-toggleable__label-arrow:before {content: \"▾\";}#sk-container-id-4 div.sk-estimator input.sk-toggleable__control:checked~label.sk-toggleable__label {background-color: #d4ebff;}#sk-container-id-4 div.sk-label input.sk-toggleable__control:checked~label.sk-toggleable__label {background-color: #d4ebff;}#sk-container-id-4 input.sk-hidden--visually {border: 0;clip: rect(1px 1px 1px 1px);clip: rect(1px, 1px, 1px, 1px);height: 1px;margin: -1px;overflow: hidden;padding: 0;position: absolute;width: 1px;}#sk-container-id-4 div.sk-estimator {font-family: monospace;background-color: #f0f8ff;border: 1px dotted black;border-radius: 0.25em;box-sizing: border-box;margin-bottom: 0.5em;}#sk-container-id-4 div.sk-estimator:hover {background-color: #d4ebff;}#sk-container-id-4 div.sk-parallel-item::after {content: \"\";width: 100%;border-bottom: 1px solid gray;flex-grow: 1;}#sk-container-id-4 div.sk-label:hover label.sk-toggleable__label {background-color: #d4ebff;}#sk-container-id-4 div.sk-serial::before {content: \"\";position: absolute;border-left: 1px solid gray;box-sizing: border-box;top: 0;bottom: 0;left: 50%;z-index: 0;}#sk-container-id-4 div.sk-serial {display: flex;flex-direction: column;align-items: center;background-color: white;padding-right: 0.2em;padding-left: 0.2em;position: relative;}#sk-container-id-4 div.sk-item {position: relative;z-index: 1;}#sk-container-id-4 div.sk-parallel {display: flex;align-items: stretch;justify-content: center;background-color: white;position: relative;}#sk-container-id-4 div.sk-item::before, #sk-container-id-4 div.sk-parallel-item::before {content: \"\";position: absolute;border-left: 1px solid gray;box-sizing: border-box;top: 0;bottom: 0;left: 50%;z-index: -1;}#sk-container-id-4 div.sk-parallel-item {display: flex;flex-direction: column;z-index: 1;position: relative;background-color: white;}#sk-container-id-4 div.sk-parallel-item:first-child::after {align-self: flex-end;width: 50%;}#sk-container-id-4 div.sk-parallel-item:last-child::after {align-self: flex-start;width: 50%;}#sk-container-id-4 div.sk-parallel-item:only-child::after {width: 0;}#sk-container-id-4 div.sk-dashed-wrapped {border: 1px dashed gray;margin: 0 0.4em 0.5em 0.4em;box-sizing: border-box;padding-bottom: 0.4em;background-color: white;}#sk-container-id-4 div.sk-label label {font-family: monospace;font-weight: bold;display: inline-block;line-height: 1.2em;}#sk-container-id-4 div.sk-label-container {text-align: center;}#sk-container-id-4 div.sk-container {/* jupyter's `normalize.less` sets `[hidden] { display: none; }` but bootstrap.min.css set `[hidden] { display: none !important; }` so we also need the `!important` here to be able to override the default hidden behavior on the sphinx rendered scikit-learn.org. See: https://github.com/scikit-learn/scikit-learn/issues/21755 */display: inline-block !important;position: relative;}#sk-container-id-4 div.sk-text-repr-fallback {display: none;}</style><div id=\"sk-container-id-4\" class=\"sk-top-container\"><div class=\"sk-text-repr-fallback\"><pre>RandomizedSearchCV(cv=5, estimator=SGDRegressor(), n_iter=50,\n",
       "                   param_distributions=[{&#x27;alpha&#x27;: [0.0001, 0.001, 0.01, 0.1,\n",
       "                                                   1.0],\n",
       "                                         &#x27;eta0&#x27;: [0.01, 0.1, 0.5],\n",
       "                                         &#x27;l1_ratio&#x27;: [0.0, 0.1, 0.5, 0.9, 1.0],\n",
       "                                         &#x27;learning_rate&#x27;: [&#x27;constant&#x27;,\n",
       "                                                           &#x27;optimal&#x27;,\n",
       "                                                           &#x27;invscaling&#x27;,\n",
       "                                                           &#x27;adaptive&#x27;]}],\n",
       "                   random_state=42)</pre><b>In a Jupyter environment, please rerun this cell to show the HTML representation or trust the notebook. <br />On GitHub, the HTML representation is unable to render, please try loading this page with nbviewer.org.</b></div><div class=\"sk-container\" hidden><div class=\"sk-item sk-dashed-wrapped\"><div class=\"sk-label-container\"><div class=\"sk-label sk-toggleable\"><input class=\"sk-toggleable__control sk-hidden--visually\" id=\"sk-estimator-id-6\" type=\"checkbox\" ><label for=\"sk-estimator-id-6\" class=\"sk-toggleable__label sk-toggleable__label-arrow\">RandomizedSearchCV</label><div class=\"sk-toggleable__content\"><pre>RandomizedSearchCV(cv=5, estimator=SGDRegressor(), n_iter=50,\n",
       "                   param_distributions=[{&#x27;alpha&#x27;: [0.0001, 0.001, 0.01, 0.1,\n",
       "                                                   1.0],\n",
       "                                         &#x27;eta0&#x27;: [0.01, 0.1, 0.5],\n",
       "                                         &#x27;l1_ratio&#x27;: [0.0, 0.1, 0.5, 0.9, 1.0],\n",
       "                                         &#x27;learning_rate&#x27;: [&#x27;constant&#x27;,\n",
       "                                                           &#x27;optimal&#x27;,\n",
       "                                                           &#x27;invscaling&#x27;,\n",
       "                                                           &#x27;adaptive&#x27;]}],\n",
       "                   random_state=42)</pre></div></div></div><div class=\"sk-parallel\"><div class=\"sk-parallel-item\"><div class=\"sk-item\"><div class=\"sk-label-container\"><div class=\"sk-label sk-toggleable\"><input class=\"sk-toggleable__control sk-hidden--visually\" id=\"sk-estimator-id-7\" type=\"checkbox\" ><label for=\"sk-estimator-id-7\" class=\"sk-toggleable__label sk-toggleable__label-arrow\">estimator: SGDRegressor</label><div class=\"sk-toggleable__content\"><pre>SGDRegressor()</pre></div></div></div><div class=\"sk-serial\"><div class=\"sk-item\"><div class=\"sk-estimator sk-toggleable\"><input class=\"sk-toggleable__control sk-hidden--visually\" id=\"sk-estimator-id-8\" type=\"checkbox\" ><label for=\"sk-estimator-id-8\" class=\"sk-toggleable__label sk-toggleable__label-arrow\">SGDRegressor</label><div class=\"sk-toggleable__content\"><pre>SGDRegressor()</pre></div></div></div></div></div></div></div></div></div></div>"
      ],
      "text/plain": [
       "RandomizedSearchCV(cv=5, estimator=SGDRegressor(), n_iter=50,\n",
       "                   param_distributions=[{'alpha': [0.0001, 0.001, 0.01, 0.1,\n",
       "                                                   1.0],\n",
       "                                         'eta0': [0.01, 0.1, 0.5],\n",
       "                                         'l1_ratio': [0.0, 0.1, 0.5, 0.9, 1.0],\n",
       "                                         'learning_rate': ['constant',\n",
       "                                                           'optimal',\n",
       "                                                           'invscaling',\n",
       "                                                           'adaptive']}],\n",
       "                   random_state=42)"
      ]
     },
     "execution_count": 33,
     "metadata": {},
     "output_type": "execute_result"
    }
   ],
   "source": [
    "rsc_house.fit(X_train, y_train)"
   ]
  },
  {
   "cell_type": "code",
   "execution_count": 34,
   "id": "2d9fe6c2-8f45-4613-b8ef-8ca5d255f601",
   "metadata": {},
   "outputs": [
    {
     "data": {
      "text/plain": [
       "{'learning_rate': 'optimal', 'l1_ratio': 1.0, 'eta0': 0.1, 'alpha': 0.01}"
      ]
     },
     "execution_count": 34,
     "metadata": {},
     "output_type": "execute_result"
    }
   ],
   "source": [
    "rsc_house.best_params_"
   ]
  },
  {
   "cell_type": "code",
   "execution_count": 35,
   "id": "1dc5345c-9b59-400a-8f56-baf491bfcd66",
   "metadata": {},
   "outputs": [
    {
     "name": "stdout",
     "output_type": "stream",
     "text": [
      "217293.12796177692\n"
     ]
    }
   ],
   "source": [
    "best_estimator = rsc_house.best_estimator_\n",
    "y_pred = best_estimator.predict (X_test)\n",
    "print (compute_RMSE(y_test, y_pred))"
   ]
  },
  {
   "cell_type": "markdown",
   "id": "9d6bcd74-0f53-4bb2-986b-d3d33f817acf",
   "metadata": {},
   "source": [
    "#### Support Vector Regression"
   ]
  },
  {
   "cell_type": "code",
   "execution_count": 36,
   "id": "da83b544-1f98-481b-8e06-977dd53da7a8",
   "metadata": {},
   "outputs": [
    {
     "name": "stdout",
     "output_type": "stream",
     "text": [
      "{'C': 1.0, 'cache_size': 200, 'coef0': 0.0, 'degree': 3, 'epsilon': 0.1, 'gamma': 'scale', 'kernel': 'rbf', 'max_iter': -1, 'shrinking': True, 'tol': 0.001, 'verbose': False}\n"
     ]
    },
    {
     "data": {
      "text/plain": [
       "dict_keys(['C', 'cache_size', 'coef0', 'degree', 'epsilon', 'gamma', 'kernel', 'max_iter', 'shrinking', 'tol', 'verbose'])"
      ]
     },
     "execution_count": 36,
     "metadata": {},
     "output_type": "execute_result"
    }
   ],
   "source": [
    "model = SVR()\n",
    "print (model.get_params())\n",
    "model.get_params().keys()"
   ]
  },
  {
   "cell_type": "code",
   "execution_count": 37,
   "id": "519ba9b4-9477-4cb6-9676-d57a404644dc",
   "metadata": {},
   "outputs": [],
   "source": [
    "hyperparameters = [\n",
    "    {\n",
    "        'kernel': ['linear', 'poly', 'rbf', 'sigmoid'],\n",
    "        'C': [0.1, 1, 10],\n",
    "        'gamma': [\"scale\", \"auto\", 0.01, 0.1, 1],\n",
    "        'epsilon': [0.1, 0.2, 0.5]\n",
    "    }\n",
    "]"
   ]
  },
  {
   "cell_type": "code",
   "execution_count": 38,
   "id": "5bde416d-a951-4c0b-b2ff-233ca9a3ae7a",
   "metadata": {},
   "outputs": [
    {
     "name": "stderr",
     "output_type": "stream",
     "text": [
      "/opt/homebrew/lib/python3.11/site-packages/joblib/externals/loky/process_executor.py:700: UserWarning: A worker stopped while some jobs were given to the executor. This can be caused by a too short worker timeout or by a memory leak.\n",
      "  warnings.warn(\n"
     ]
    },
    {
     "data": {
      "text/html": [
       "<style>#sk-container-id-5 {color: black;background-color: white;}#sk-container-id-5 pre{padding: 0;}#sk-container-id-5 div.sk-toggleable {background-color: white;}#sk-container-id-5 label.sk-toggleable__label {cursor: pointer;display: block;width: 100%;margin-bottom: 0;padding: 0.3em;box-sizing: border-box;text-align: center;}#sk-container-id-5 label.sk-toggleable__label-arrow:before {content: \"▸\";float: left;margin-right: 0.25em;color: #696969;}#sk-container-id-5 label.sk-toggleable__label-arrow:hover:before {color: black;}#sk-container-id-5 div.sk-estimator:hover label.sk-toggleable__label-arrow:before {color: black;}#sk-container-id-5 div.sk-toggleable__content {max-height: 0;max-width: 0;overflow: hidden;text-align: left;background-color: #f0f8ff;}#sk-container-id-5 div.sk-toggleable__content pre {margin: 0.2em;color: black;border-radius: 0.25em;background-color: #f0f8ff;}#sk-container-id-5 input.sk-toggleable__control:checked~div.sk-toggleable__content {max-height: 200px;max-width: 100%;overflow: auto;}#sk-container-id-5 input.sk-toggleable__control:checked~label.sk-toggleable__label-arrow:before {content: \"▾\";}#sk-container-id-5 div.sk-estimator input.sk-toggleable__control:checked~label.sk-toggleable__label {background-color: #d4ebff;}#sk-container-id-5 div.sk-label input.sk-toggleable__control:checked~label.sk-toggleable__label {background-color: #d4ebff;}#sk-container-id-5 input.sk-hidden--visually {border: 0;clip: rect(1px 1px 1px 1px);clip: rect(1px, 1px, 1px, 1px);height: 1px;margin: -1px;overflow: hidden;padding: 0;position: absolute;width: 1px;}#sk-container-id-5 div.sk-estimator {font-family: monospace;background-color: #f0f8ff;border: 1px dotted black;border-radius: 0.25em;box-sizing: border-box;margin-bottom: 0.5em;}#sk-container-id-5 div.sk-estimator:hover {background-color: #d4ebff;}#sk-container-id-5 div.sk-parallel-item::after {content: \"\";width: 100%;border-bottom: 1px solid gray;flex-grow: 1;}#sk-container-id-5 div.sk-label:hover label.sk-toggleable__label {background-color: #d4ebff;}#sk-container-id-5 div.sk-serial::before {content: \"\";position: absolute;border-left: 1px solid gray;box-sizing: border-box;top: 0;bottom: 0;left: 50%;z-index: 0;}#sk-container-id-5 div.sk-serial {display: flex;flex-direction: column;align-items: center;background-color: white;padding-right: 0.2em;padding-left: 0.2em;position: relative;}#sk-container-id-5 div.sk-item {position: relative;z-index: 1;}#sk-container-id-5 div.sk-parallel {display: flex;align-items: stretch;justify-content: center;background-color: white;position: relative;}#sk-container-id-5 div.sk-item::before, #sk-container-id-5 div.sk-parallel-item::before {content: \"\";position: absolute;border-left: 1px solid gray;box-sizing: border-box;top: 0;bottom: 0;left: 50%;z-index: -1;}#sk-container-id-5 div.sk-parallel-item {display: flex;flex-direction: column;z-index: 1;position: relative;background-color: white;}#sk-container-id-5 div.sk-parallel-item:first-child::after {align-self: flex-end;width: 50%;}#sk-container-id-5 div.sk-parallel-item:last-child::after {align-self: flex-start;width: 50%;}#sk-container-id-5 div.sk-parallel-item:only-child::after {width: 0;}#sk-container-id-5 div.sk-dashed-wrapped {border: 1px dashed gray;margin: 0 0.4em 0.5em 0.4em;box-sizing: border-box;padding-bottom: 0.4em;background-color: white;}#sk-container-id-5 div.sk-label label {font-family: monospace;font-weight: bold;display: inline-block;line-height: 1.2em;}#sk-container-id-5 div.sk-label-container {text-align: center;}#sk-container-id-5 div.sk-container {/* jupyter's `normalize.less` sets `[hidden] { display: none; }` but bootstrap.min.css set `[hidden] { display: none !important; }` so we also need the `!important` here to be able to override the default hidden behavior on the sphinx rendered scikit-learn.org. See: https://github.com/scikit-learn/scikit-learn/issues/21755 */display: inline-block !important;position: relative;}#sk-container-id-5 div.sk-text-repr-fallback {display: none;}</style><div id=\"sk-container-id-5\" class=\"sk-top-container\"><div class=\"sk-text-repr-fallback\"><pre>RandomizedSearchCV(cv=5, estimator=SVR(), n_iter=50, n_jobs=-2,\n",
       "                   param_distributions=[{&#x27;C&#x27;: [0.1, 1, 10],\n",
       "                                         &#x27;epsilon&#x27;: [0.1, 0.2, 0.5],\n",
       "                                         &#x27;gamma&#x27;: [&#x27;scale&#x27;, &#x27;auto&#x27;, 0.01, 0.1,\n",
       "                                                   1],\n",
       "                                         &#x27;kernel&#x27;: [&#x27;linear&#x27;, &#x27;poly&#x27;, &#x27;rbf&#x27;,\n",
       "                                                    &#x27;sigmoid&#x27;]}],\n",
       "                   random_state=42)</pre><b>In a Jupyter environment, please rerun this cell to show the HTML representation or trust the notebook. <br />On GitHub, the HTML representation is unable to render, please try loading this page with nbviewer.org.</b></div><div class=\"sk-container\" hidden><div class=\"sk-item sk-dashed-wrapped\"><div class=\"sk-label-container\"><div class=\"sk-label sk-toggleable\"><input class=\"sk-toggleable__control sk-hidden--visually\" id=\"sk-estimator-id-9\" type=\"checkbox\" ><label for=\"sk-estimator-id-9\" class=\"sk-toggleable__label sk-toggleable__label-arrow\">RandomizedSearchCV</label><div class=\"sk-toggleable__content\"><pre>RandomizedSearchCV(cv=5, estimator=SVR(), n_iter=50, n_jobs=-2,\n",
       "                   param_distributions=[{&#x27;C&#x27;: [0.1, 1, 10],\n",
       "                                         &#x27;epsilon&#x27;: [0.1, 0.2, 0.5],\n",
       "                                         &#x27;gamma&#x27;: [&#x27;scale&#x27;, &#x27;auto&#x27;, 0.01, 0.1,\n",
       "                                                   1],\n",
       "                                         &#x27;kernel&#x27;: [&#x27;linear&#x27;, &#x27;poly&#x27;, &#x27;rbf&#x27;,\n",
       "                                                    &#x27;sigmoid&#x27;]}],\n",
       "                   random_state=42)</pre></div></div></div><div class=\"sk-parallel\"><div class=\"sk-parallel-item\"><div class=\"sk-item\"><div class=\"sk-label-container\"><div class=\"sk-label sk-toggleable\"><input class=\"sk-toggleable__control sk-hidden--visually\" id=\"sk-estimator-id-10\" type=\"checkbox\" ><label for=\"sk-estimator-id-10\" class=\"sk-toggleable__label sk-toggleable__label-arrow\">estimator: SVR</label><div class=\"sk-toggleable__content\"><pre>SVR()</pre></div></div></div><div class=\"sk-serial\"><div class=\"sk-item\"><div class=\"sk-estimator sk-toggleable\"><input class=\"sk-toggleable__control sk-hidden--visually\" id=\"sk-estimator-id-11\" type=\"checkbox\" ><label for=\"sk-estimator-id-11\" class=\"sk-toggleable__label sk-toggleable__label-arrow\">SVR</label><div class=\"sk-toggleable__content\"><pre>SVR()</pre></div></div></div></div></div></div></div></div></div></div>"
      ],
      "text/plain": [
       "RandomizedSearchCV(cv=5, estimator=SVR(), n_iter=50, n_jobs=-2,\n",
       "                   param_distributions=[{'C': [0.1, 1, 10],\n",
       "                                         'epsilon': [0.1, 0.2, 0.5],\n",
       "                                         'gamma': ['scale', 'auto', 0.01, 0.1,\n",
       "                                                   1],\n",
       "                                         'kernel': ['linear', 'poly', 'rbf',\n",
       "                                                    'sigmoid']}],\n",
       "                   random_state=42)"
      ]
     },
     "execution_count": 38,
     "metadata": {},
     "output_type": "execute_result"
    }
   ],
   "source": [
    "rsc_house = RandomizedSearchCV (estimator = model , param_distributions = hyperparameters , n_iter = 50, n_jobs = -2, cv = 5, random_state = 42)\n",
    "# To make processing faster, adjust n_jobs, however it will still take a while.\n",
    "# -1 (all cpu cores) , -2(all cores but 1) , -3(all cores but two)\n",
    "rsc_house.fit(X_train, y_train)"
   ]
  },
  {
   "cell_type": "code",
   "execution_count": 39,
   "id": "7aee3a1d-2f82-429b-875f-ad64fe301a20",
   "metadata": {},
   "outputs": [
    {
     "data": {
      "text/plain": [
       "{'kernel': 'poly', 'gamma': 1, 'epsilon': 0.5, 'C': 1}"
      ]
     },
     "execution_count": 39,
     "metadata": {},
     "output_type": "execute_result"
    }
   ],
   "source": [
    "rsc_house.best_params_"
   ]
  },
  {
   "cell_type": "code",
   "execution_count": 40,
   "id": "824bff07-6033-4ed1-8b6c-41a43be09332",
   "metadata": {},
   "outputs": [
    {
     "name": "stdout",
     "output_type": "stream",
     "text": [
      "221266.13755804644\n"
     ]
    }
   ],
   "source": [
    "best_estimator = rsc_house.best_estimator_\n",
    "y_pred = best_estimator.predict (X_test)\n",
    "print (compute_RMSE(y_test, y_pred))"
   ]
  },
  {
   "cell_type": "code",
   "execution_count": null,
   "id": "a3949969-a46c-48c3-b455-05e203eba11a",
   "metadata": {},
   "outputs": [],
   "source": []
  }
 ],
 "metadata": {
  "kernelspec": {
   "display_name": "Python 3 (ipykernel)",
   "language": "python",
   "name": "python3"
  },
  "language_info": {
   "codemirror_mode": {
    "name": "ipython",
    "version": 3
   },
   "file_extension": ".py",
   "mimetype": "text/x-python",
   "name": "python",
   "nbconvert_exporter": "python",
   "pygments_lexer": "ipython3",
   "version": "3.11.6"
  }
 },
 "nbformat": 4,
 "nbformat_minor": 5
}
