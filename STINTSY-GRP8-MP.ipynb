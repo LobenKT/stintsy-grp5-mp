{
 "cells": [
  {
   "cell_type": "markdown",
   "id": "f7f5daa8",
   "metadata": {},
   "source": [
    "# STINTSY GROUP 8 MACHINE PROJECT\n",
    "## PIANO, TAHIMIC, TAMAYO, TIPAN"
   ]
  },
  {
   "cell_type": "markdown",
   "id": "5663bb8a",
   "metadata": {},
   "source": [
    "### I. EXPLORING THE DATASET"
   ]
  },
  {
   "cell_type": "code",
   "execution_count": null,
   "id": "2cd1a0fc",
   "metadata": {},
   "outputs": [],
   "source": []
  }
 ],
 "metadata": {
  "kernelspec": {
   "display_name": "Python 3 (ipykernel)",
   "language": "python",
   "name": "python3"
  },
  "language_info": {
   "codemirror_mode": {
    "name": "ipython",
    "version": 3
   },
   "file_extension": ".py",
   "mimetype": "text/x-python",
   "name": "python",
   "nbconvert_exporter": "python",
   "pygments_lexer": "ipython3",
   "version": "3.9.18"
  }
 },
 "nbformat": 4,
 "nbformat_minor": 5
}
