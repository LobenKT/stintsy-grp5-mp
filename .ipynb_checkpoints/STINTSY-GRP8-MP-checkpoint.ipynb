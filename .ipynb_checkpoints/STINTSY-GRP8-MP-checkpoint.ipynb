{
 "cells": [
  {
   "cell_type": "markdown",
   "id": "f7f5daa8",
   "metadata": {},
   "source": [
    "# STINTSY GROUP 8 MACHINE PROJECT\n",
    "## PIANO, TAHIMIC, TAMAYO, TIPAN"
   ]
  },
  {
   "cell_type": "markdown",
   "id": "d45d8f04-dde9-4c09-ad08-3882200fd2c6",
   "metadata": {},
   "source": [
    "## I. INTRODUCTION"
   ]
  },
  {
   "cell_type": "markdown",
   "id": "03a95d3d-adf6-400b-a271-20eb4a1ec728",
   "metadata": {},
   "source": [
    "The dataset that will be used in this project will be the house prices dataset. The data set contains multiple features of different houses including the price of the house, the number of bedrooms and bathrooms, and a lot more. The problem that this project aims to solve is the predicting or the identification of the price of the house given the features the house has, thus this paper will heavily use regression as the main method to obtain the predicted values"
   ]
  },
  {
   "cell_type": "markdown",
   "id": "47b60a0b-9d70-43d8-9cd8-cc99998ff1a9",
   "metadata": {
    "tags": []
   },
   "source": [
    "## II. Description of the Dataset"
   ]
  },
  {
   "cell_type": "markdown",
   "id": "970c5928-4e81-40c5-84d0-915bffc39179",
   "metadata": {},
   "source": [
    "This dataset contains house sale prices for King County during the period of May 2014 to May 2015."
   ]
  },
  {
   "cell_type": "markdown",
   "id": "1624f913-1c04-4ee2-bc9c-d69e7ac47f8f",
   "metadata": {},
   "source": [
    "### Tabularized List of Variables"
   ]
  },
  {
   "cell_type": "markdown",
   "id": "9298a468-5938-4f38-b918-59b82943d62a",
   "metadata": {},
   "source": [
    "| [house_prices.csv] **Variable Name** | **Description**|\n",
    "|--------------------------------------|----------------|\n",
    "|**id** | A notation for the house|\n",
    "|**date** | Date the house is sold|\n",
    "|**price** | The Sale price of the house|\n",
    "|**bedrooms** | The Number of bedrooms |\n",
    "|**bathrooms** | The Number of bathrooms |\n",
    "|**sqft_livin** | Size of the living area in square feet |\n",
    "|**sqft_lo**t | Size of the lot in square feet |\n",
    "|**floors** | Total floors in the house |\n",
    "|**waterfront** | '1' if the property has waterfront, '0' if none |\n",
    "|**view** | An index of 0 to 4 of good the view of the property was |\n",
    "|**condition** | Condition of the house, ranked from 1 to 5 |\n",
    "|**grade** | Classification by construction quality which refers to the types of materials used and the quality of workmanship. Buildings of better quality (higher grade) cost more to build per unit of measure and command higher value. |\n",
    "|**sqft_above** | Square feet above ground |\n",
    "|**sqft_basement** | Square feet below ground |\n",
    "|**yr_built** | Year the house was built |\n",
    "|**yr_renovated** | Year the house was renovated, 0 if never renovated |\n",
    "|**zipcode** | 5 Digit zip code |\n",
    "|**lat** | Latitude Coordinate |\n",
    "|**long** | Longitude Cooridinate |\n",
    "|**sqft_living15** | Average size of interior housing living space for the closest 15 houses, in square feet |\n",
    "|**sqft_lot15** | Average size of land lots for the closest 15 houses, in square feet |"
   ]
  },
  {
   "cell_type": "markdown",
   "id": "3b57c59c-bf7e-4d50-9aae-2c1dcbaf72c3",
   "metadata": {},
   "source": [
    "## III. Libraries Required"
   ]
  },
  {
   "cell_type": "markdown",
   "id": "2a0ae262-f9fb-43e4-9d70-ec4bdfab29f8",
   "metadata": {
    "tags": []
   },
   "source": [
    "## IV. DATA PREPROCESSING AND CLEANING"
   ]
  },
  {
   "cell_type": "markdown",
   "id": "3e8ef360-7f70-467f-8cfe-cac3fc88da3b",
   "metadata": {},
   "source": [
    "`Perform the necessary steps before using the data. In this section of the notebook, please take\n",
    "note of the following:\n",
    "• If needed, perform preprocessing techniques to transform the data to the appropriate\n",
    "representation. This may include binning, log transformations, conversion to one-hot\n",
    "encoding, normalization, standardization, interpolation, truncation, and feature\n",
    "engineering, among others. There should be a correct and proper justification of the use\n",
    "of each preprocessing technique used in the project.\n",
    "• Make sure that the data is clean, especially features that are used in the project. This\n",
    "may include checking for misrepresentations, checking the data type, dealing with\n",
    "missing data, dealing with duplicate data, and dealing with outliers, among others. There\n",
    "STINTSY T1AY2324\n",
    "should be a correct and proper justification of the application (or non-application) of each\n",
    "data cleaning method used in the project. Clean only the variables utilized in the study `"
   ]
  },
  {
   "cell_type": "markdown",
   "id": "5663bb8a",
   "metadata": {
    "tags": []
   },
   "source": [
    "## V. EXPLORATORY DATA ANALYSIS"
   ]
  },
  {
   "cell_type": "markdown",
   "id": "d8de4312-610d-46e9-99c7-d046544b3307",
   "metadata": {},
   "source": [
    "Load the House Prices Dataset"
   ]
  },
  {
   "cell_type": "code",
   "execution_count": 1,
   "id": "12a1f9a1-1811-4ce9-ac51-f63325905239",
   "metadata": {},
   "outputs": [],
   "source": [
    "import matplotlib.pyplot as plt\n",
    "%matplotlib inline\n",
    "import numpy as np"
   ]
  },
  {
   "cell_type": "code",
   "execution_count": 2,
   "id": "679773fb-6746-4278-975c-c1852ffb174b",
   "metadata": {},
   "outputs": [
    {
     "data": {
      "text/html": [
       "<div>\n",
       "<style scoped>\n",
       "    .dataframe tbody tr th:only-of-type {\n",
       "        vertical-align: middle;\n",
       "    }\n",
       "\n",
       "    .dataframe tbody tr th {\n",
       "        vertical-align: top;\n",
       "    }\n",
       "\n",
       "    .dataframe thead th {\n",
       "        text-align: right;\n",
       "    }\n",
       "</style>\n",
       "<table border=\"1\" class=\"dataframe\">\n",
       "  <thead>\n",
       "    <tr style=\"text-align: right;\">\n",
       "      <th></th>\n",
       "      <th>id</th>\n",
       "      <th>date</th>\n",
       "      <th>price</th>\n",
       "      <th>bedrooms</th>\n",
       "      <th>bathrooms</th>\n",
       "      <th>sqft_living</th>\n",
       "      <th>sqft_lot</th>\n",
       "      <th>floors</th>\n",
       "      <th>waterfront</th>\n",
       "      <th>view</th>\n",
       "      <th>...</th>\n",
       "      <th>grade</th>\n",
       "      <th>sqft_above</th>\n",
       "      <th>sqft_basement</th>\n",
       "      <th>yr_built</th>\n",
       "      <th>yr_renovated</th>\n",
       "      <th>zipcode</th>\n",
       "      <th>lat</th>\n",
       "      <th>long</th>\n",
       "      <th>sqft_living15</th>\n",
       "      <th>sqft_lot15</th>\n",
       "    </tr>\n",
       "  </thead>\n",
       "  <tbody>\n",
       "    <tr>\n",
       "      <th>0</th>\n",
       "      <td>7129300520</td>\n",
       "      <td>20141013T000000</td>\n",
       "      <td>221900.0</td>\n",
       "      <td>3</td>\n",
       "      <td>1.00</td>\n",
       "      <td>1180</td>\n",
       "      <td>5650</td>\n",
       "      <td>1.0</td>\n",
       "      <td>0</td>\n",
       "      <td>0</td>\n",
       "      <td>...</td>\n",
       "      <td>7</td>\n",
       "      <td>1180</td>\n",
       "      <td>0</td>\n",
       "      <td>1955</td>\n",
       "      <td>0</td>\n",
       "      <td>98178</td>\n",
       "      <td>47.5112</td>\n",
       "      <td>-122.257</td>\n",
       "      <td>1340</td>\n",
       "      <td>5650</td>\n",
       "    </tr>\n",
       "    <tr>\n",
       "      <th>1</th>\n",
       "      <td>6414100192</td>\n",
       "      <td>20141209T000000</td>\n",
       "      <td>538000.0</td>\n",
       "      <td>3</td>\n",
       "      <td>2.25</td>\n",
       "      <td>2570</td>\n",
       "      <td>7242</td>\n",
       "      <td>2.0</td>\n",
       "      <td>0</td>\n",
       "      <td>0</td>\n",
       "      <td>...</td>\n",
       "      <td>7</td>\n",
       "      <td>2170</td>\n",
       "      <td>400</td>\n",
       "      <td>1951</td>\n",
       "      <td>1991</td>\n",
       "      <td>98125</td>\n",
       "      <td>47.7210</td>\n",
       "      <td>-122.319</td>\n",
       "      <td>1690</td>\n",
       "      <td>7639</td>\n",
       "    </tr>\n",
       "    <tr>\n",
       "      <th>2</th>\n",
       "      <td>5631500400</td>\n",
       "      <td>20150225T000000</td>\n",
       "      <td>180000.0</td>\n",
       "      <td>2</td>\n",
       "      <td>1.00</td>\n",
       "      <td>770</td>\n",
       "      <td>10000</td>\n",
       "      <td>1.0</td>\n",
       "      <td>0</td>\n",
       "      <td>0</td>\n",
       "      <td>...</td>\n",
       "      <td>6</td>\n",
       "      <td>770</td>\n",
       "      <td>0</td>\n",
       "      <td>1933</td>\n",
       "      <td>0</td>\n",
       "      <td>98028</td>\n",
       "      <td>47.7379</td>\n",
       "      <td>-122.233</td>\n",
       "      <td>2720</td>\n",
       "      <td>8062</td>\n",
       "    </tr>\n",
       "    <tr>\n",
       "      <th>3</th>\n",
       "      <td>2487200875</td>\n",
       "      <td>20141209T000000</td>\n",
       "      <td>604000.0</td>\n",
       "      <td>4</td>\n",
       "      <td>3.00</td>\n",
       "      <td>1960</td>\n",
       "      <td>5000</td>\n",
       "      <td>1.0</td>\n",
       "      <td>0</td>\n",
       "      <td>0</td>\n",
       "      <td>...</td>\n",
       "      <td>7</td>\n",
       "      <td>1050</td>\n",
       "      <td>910</td>\n",
       "      <td>1965</td>\n",
       "      <td>0</td>\n",
       "      <td>98136</td>\n",
       "      <td>47.5208</td>\n",
       "      <td>-122.393</td>\n",
       "      <td>1360</td>\n",
       "      <td>5000</td>\n",
       "    </tr>\n",
       "    <tr>\n",
       "      <th>4</th>\n",
       "      <td>1954400510</td>\n",
       "      <td>20150218T000000</td>\n",
       "      <td>510000.0</td>\n",
       "      <td>3</td>\n",
       "      <td>2.00</td>\n",
       "      <td>1680</td>\n",
       "      <td>8080</td>\n",
       "      <td>1.0</td>\n",
       "      <td>0</td>\n",
       "      <td>0</td>\n",
       "      <td>...</td>\n",
       "      <td>8</td>\n",
       "      <td>1680</td>\n",
       "      <td>0</td>\n",
       "      <td>1987</td>\n",
       "      <td>0</td>\n",
       "      <td>98074</td>\n",
       "      <td>47.6168</td>\n",
       "      <td>-122.045</td>\n",
       "      <td>1800</td>\n",
       "      <td>7503</td>\n",
       "    </tr>\n",
       "  </tbody>\n",
       "</table>\n",
       "<p>5 rows × 21 columns</p>\n",
       "</div>"
      ],
      "text/plain": [
       "           id             date     price  bedrooms  bathrooms  sqft_living  \\\n",
       "0  7129300520  20141013T000000  221900.0         3       1.00         1180   \n",
       "1  6414100192  20141209T000000  538000.0         3       2.25         2570   \n",
       "2  5631500400  20150225T000000  180000.0         2       1.00          770   \n",
       "3  2487200875  20141209T000000  604000.0         4       3.00         1960   \n",
       "4  1954400510  20150218T000000  510000.0         3       2.00         1680   \n",
       "\n",
       "   sqft_lot  floors  waterfront  view  ...  grade  sqft_above  sqft_basement  \\\n",
       "0      5650     1.0           0     0  ...      7        1180              0   \n",
       "1      7242     2.0           0     0  ...      7        2170            400   \n",
       "2     10000     1.0           0     0  ...      6         770              0   \n",
       "3      5000     1.0           0     0  ...      7        1050            910   \n",
       "4      8080     1.0           0     0  ...      8        1680              0   \n",
       "\n",
       "   yr_built  yr_renovated  zipcode      lat     long  sqft_living15  \\\n",
       "0      1955             0    98178  47.5112 -122.257           1340   \n",
       "1      1951          1991    98125  47.7210 -122.319           1690   \n",
       "2      1933             0    98028  47.7379 -122.233           2720   \n",
       "3      1965             0    98136  47.5208 -122.393           1360   \n",
       "4      1987             0    98074  47.6168 -122.045           1800   \n",
       "\n",
       "   sqft_lot15  \n",
       "0        5650  \n",
       "1        7639  \n",
       "2        8062  \n",
       "3        5000  \n",
       "4        7503  \n",
       "\n",
       "[5 rows x 21 columns]"
      ]
     },
     "execution_count": 2,
     "metadata": {},
     "output_type": "execute_result"
    }
   ],
   "source": [
    "import pandas as pd\n",
    "house = pd.read_csv('house_prices.csv')\n",
    "house.head()"
   ]
  },
  {
   "cell_type": "markdown",
   "id": "caf9b1b9-99da-4ef5-880e-6ed3bd860df5",
   "metadata": {
    "tags": []
   },
   "source": [
    "## Find What Feature Affects the Price of the House the Most through correlation"
   ]
  },
  {
   "cell_type": "code",
   "execution_count": 3,
   "id": "382fa74b-6e4f-4662-96f5-577a6c3b162f",
   "metadata": {},
   "outputs": [
    {
     "data": {
      "image/png": "[encoded data removed]",
      "text/plain": [
       "<Figure size 720x432 with 1 Axes>"
      ]
     },
     "metadata": {
      "needs_background": "light"
     },
     "output_type": "display_data"
    }
   ],
   "source": [
    "correlation_matrix = house.corr()\n",
    "correlation_matrix = correlation_matrix.iloc[:, 1:]\n",
    "correlation_matrix = correlation_matrix.iloc[1:, :]\n",
    "corr_price = correlation_matrix['price']\n",
    "\n",
    "plt.figure(figsize=(10, 6)) \n",
    "plt.bar(corr_price.index, corr_price.values)\n",
    "plt.xlabel('Bedrooms')\n",
    "plt.ylabel('Average Price')\n",
    "plt.title('Average Price by Bedrooms')\n",
    "plt.xticks(rotation=45, ha='right')\n",
    "plt.show()"
   ]
  },
  {
   "cell_type": "markdown",
   "id": "833fa664-a19e-4eb4-95e0-a88e38012ccf",
   "metadata": {},
   "source": [
    "According to the correlation chart, the size of the living space is what affects the price of the house the most, after the living space, the grade or the build quality is what affects the price the most."
   ]
  },
  {
   "cell_type": "markdown",
   "id": "45eca0be-e941-417c-963f-138695add707",
   "metadata": {},
   "source": [
    "## Do Homes that has a lot of Living Space usually have good Build Quality?"
   ]
  },
  {
   "cell_type": "code",
   "execution_count": 4,
   "id": "498c3e72-bcdd-4b0a-9c43-9c3089aab8a9",
   "metadata": {},
   "outputs": [
    {
     "data": {
      "image/png": "[encoded data removed]",
      "text/plain": [
       "<Figure size 432x288 with 1 Axes>"
      ]
     },
     "metadata": {
      "needs_background": "light"
     },
     "output_type": "display_data"
    }
   ],
   "source": [
    "mean_size_per_Grade = house.groupby('grade')['sqft_living'].mean()\n",
    "\n",
    "plt.plot(mean_size_per_Grade.index, mean_size_per_Grade.values)\n",
    "plt.xlabel('grade')\n",
    "plt.ylabel('sqft_living')\n",
    "plt.title('Average Size per Grade')\n",
    "plt.show()"
   ]
  },
  {
   "cell_type": "markdown",
   "id": "40ffacf5-fd08-4975-9419-4eb4ec00c2e2",
   "metadata": {},
   "source": [
    "According to the graph, the relationship between the grade and the living space is directly proportional"
   ]
  },
  {
   "cell_type": "markdown",
   "id": "67e98b16-c247-4fe1-9679-b38c97078333",
   "metadata": {},
   "source": [
    "## VI. MODEL TRAINING"
   ]
  },
  {
   "cell_type": "code",
   "execution_count": null,
   "id": "83d0886c-367d-4028-9624-6c356cbcda46",
   "metadata": {},
   "outputs": [],
   "source": []
  }
 ],
 "metadata": {
  "kernelspec": {
   "display_name": "Python 3 (ipykernel)",
   "language": "python",
   "name": "python3"
  },
  "language_info": {
   "codemirror_mode": {
    "name": "ipython",
    "version": 3
   },
   "file_extension": ".py",
   "mimetype": "text/x-python",
   "name": "python",
   "nbconvert_exporter": "python",
   "pygments_lexer": "ipython3",
   "version": "3.9.12"
  }
 },
 "nbformat": 4,
 "nbformat_minor": 5
}
